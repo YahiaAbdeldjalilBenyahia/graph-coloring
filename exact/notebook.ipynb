{
  "cells": [
    {
      "cell_type": "markdown",
      "metadata": {
        "id": "view-in-github",
        "colab_type": "text"
      },
      "source": [
        "<a href=\"https://colab.research.google.com/github/YahiaAbdeldjalilBenyahia/graph-coloring/blob/main/exact/notebook.ipynb\" target=\"_parent\"><img src=\"https://colab.research.google.com/assets/colab-badge.svg\" alt=\"Open In Colab\"/></a>"
      ]
    },
    {
      "cell_type": "code",
      "execution_count": null,
      "metadata": {
        "id": "AEVd3_ND3njm"
      },
      "outputs": [],
      "source": [
        "import time\n",
        "import numpy as np\n",
        "import requests"
      ]
    },
    {
      "cell_type": "code",
      "execution_count": null,
      "metadata": {
        "id": "VDswe64h3oyv"
      },
      "outputs": [],
      "source": [
        "DEBUG = True\n",
        "\n",
        "def debug_print(*args, **kwargs):\n",
        "    if DEBUG:\n",
        "        print(*args, **kwargs)"
      ]
    },
    {
      "cell_type": "code",
      "execution_count": null,
      "metadata": {
        "id": "lccj8mBC35H_"
      },
      "outputs": [],
      "source": [
        "def lire_graphe_triangulaire(url_fichier):\n",
        "    \"\"\"\n",
        "    Lit un fichier DIMACS et convertit le graphe en une matrice triangulaire inférieure.\n",
        "\n",
        "    :param url_fichier: URL du fichier .col contenant le graphe\n",
        "    :return: Matrice triangulaire inférieure sous forme de liste de listes\n",
        "    \"\"\"\n",
        "    with open(url_fichier, 'r') as f:\n",
        "      # Lit toutes les lignes et les stocke dans une liste lignes.\n",
        "      lignes = f.readlines()\n",
        "\n",
        "    nb_sommets = 0\n",
        "    aretes = []\n",
        "\n",
        "    for ligne in lignes:\n",
        "        ligne = ligne.strip()\n",
        "        if ligne.startswith('p'):\n",
        "            _, _, nb_sommets, _ = ligne.split()\n",
        "            nb_sommets = int(nb_sommets)\n",
        "        elif ligne.startswith('e'):\n",
        "            _, sommet1, sommet2 = ligne.split()\n",
        "            sommet1, sommet2 = int(sommet1), int(sommet2)\n",
        "            aretes.append((sommet1, sommet2))\n",
        "\n",
        "    # Création de la matrice triangulaire inférieure\n",
        "    matrice_triangulaire = [[0] * (i + 1) for i in range(nb_sommets)]\n",
        "    for sommet1, sommet2 in aretes:\n",
        "        sommet1 -= 1  # Ajustement des indices (DIMACS commence à 1)\n",
        "        sommet2 -= 1\n",
        "        if sommet1 > sommet2:\n",
        "            matrice_triangulaire[sommet1][sommet2] = 1\n",
        "        else:\n",
        "            matrice_triangulaire[sommet2][sommet1] = 1\n",
        "\n",
        "    return matrice_triangulaire"
      ]
    },
    {
      "cell_type": "code",
      "execution_count": null,
      "metadata": {
        "id": "cuHvO_fO4Nqe"
      },
      "outputs": [],
      "source": [
        "def greedy_coloring(matrice_triangulaire):\n",
        "    \"\"\"\n",
        "    Applique un algorithme glouton pour obtenir une solution initiale de coloration.\n",
        "    Cette solution sert de borne supérieure initiale (upper bound) pour le branch and bound.\n",
        "\n",
        "    :param matrice_triangulaire: La matrice triangulaire inférieure représentant le graphe.\n",
        "    :return: Tuple (nombre de couleurs utilisées, liste de coloration)\n",
        "    \"\"\"\n",
        "    n = len(matrice_triangulaire)\n",
        "    colors = [None] * n\n",
        "    for vertex in range(n):\n",
        "        forbidden = set()\n",
        "        for j in range(n):\n",
        "            if colors[j] is not None:\n",
        "                if vertex > j and matrice_triangulaire[vertex][j] == 1:\n",
        "                    forbidden.add(colors[j])\n",
        "                elif vertex < j and matrice_triangulaire[j][vertex] == 1:\n",
        "                    forbidden.add(colors[j])\n",
        "        color = 1\n",
        "        while color in forbidden:\n",
        "            color += 1\n",
        "        colors[vertex] = color\n",
        "    return len(set(colors)), colors"
      ]
    },
    {
      "cell_type": "code",
      "execution_count": null,
      "metadata": {
        "id": "vxJhVGJG5D-h"
      },
      "outputs": [],
      "source": [
        "def build_neighbor_list(matrice_triangulaire):\n",
        "    \"\"\"\n",
        "    Pré-calcule la liste des voisins pour chaque sommet à partir de la matrice triangulaire.\n",
        "\n",
        "    :param matrice_triangulaire: Matrice triangulaire inférieure représentant le graphe.\n",
        "    :return: Liste de listes, où chaque sous-liste contient les indices des voisins du sommet.\n",
        "    \"\"\"\n",
        "    n = len(matrice_triangulaire)\n",
        "    neighbors = [[] for _ in range(n)]\n",
        "    for i in range(n):\n",
        "        for j in range(i):\n",
        "            if matrice_triangulaire[i][j] == 1:\n",
        "                neighbors[i].append(j)\n",
        "                neighbors[j].append(i)\n",
        "    return neighbors"
      ]
    },
    {
      "cell_type": "code",
      "execution_count": null,
      "metadata": {
        "id": "YAJkBBAt5HyW"
      },
      "outputs": [],
      "source": [
        "def select_next_vertex_dsatur(assignment, uncolored, neighbors):\n",
        "    \"\"\"\n",
        "    Sélectionne dynamiquement le prochain sommet à colorier selon la règle DSATUR.\n",
        "    Le sommet choisi est celui qui a la plus grande \"saturation\" (nombre de couleurs distinctes parmi ses voisins coloriés)\n",
        "    et, en cas d'égalité, celui avec le degré le plus élevé.\n",
        "\n",
        "    :param assignment: Liste des couleurs assignées (None si non colorié)\n",
        "    :param uncolored: Ensemble des indices de sommets non colorés\n",
        "    :param neighbors: Liste pré-calculée des voisins pour chaque sommet\n",
        "    :return: L'indice du sommet à colorier ensuite\n",
        "    \"\"\"\n",
        "    best_vertex = None\n",
        "    best_sat = -1\n",
        "    best_degree = -1\n",
        "    for v in uncolored:\n",
        "        sat = len({assignment[u] for u in neighbors[v] if assignment[u] is not None})\n",
        "        degree = len(neighbors[v])\n",
        "        if sat > best_sat or (sat == best_sat and degree > best_degree):\n",
        "            best_sat = sat\n",
        "            best_degree = degree\n",
        "            best_vertex = v\n",
        "    return best_vertex"
      ]
    },
    {
      "cell_type": "code",
      "execution_count": null,
      "metadata": {
        "id": "S-vHJfYvn4og"
      },
      "outputs": [],
      "source": [
        "def branch_and_bound_coloring_dsatur(matrice_triangulaire):\n",
        "    \"\"\"\n",
        "    Implémente le branch and bound pour la coloration de graphe en utilisant DSATUR pour le choix du prochain sommet.\n",
        "\n",
        "    Optimisations appliquées :\n",
        "      - Utilisation d'une heuristique gloutonne pour obtenir une solution initiale (borne supérieure).\n",
        "      - Pré-calcul des voisins pour accélérer la vérification des conflits.\n",
        "      - Sélection dynamique du prochain sommet à colorier par DSATUR.\n",
        "      - Branching sur les couleurs déjà utilisées + une nouvelle couleur.\n",
        "\n",
        "    Chaque état est représenté par :\n",
        "      - assignment : liste des couleurs assignées (None si non colorié)\n",
        "      - uncolored : ensemble des indices des sommets non colorés\n",
        "      - num_colors_used : nombre de couleurs utilisées jusqu'ici\n",
        "\n",
        "    :return: Tuple (nombre chromatique optimal, solution de coloration, temps d'exécution)\n",
        "    \"\"\"\n",
        "    start_time = time.time()\n",
        "    n = len(matrice_triangulaire)\n",
        "\n",
        "    # Obtenir une solution initiale par heuristique gloutonne\n",
        "    initial_color_count, initial_solution = greedy_coloring(matrice_triangulaire)\n",
        "    debug_print(f\"Initial heuristic solution: {initial_solution} using {initial_color_count} colors.\")\n",
        "\n",
        "    best_color_count = initial_color_count\n",
        "    best_solution = initial_solution.copy()\n",
        "\n",
        "    # Pré-calculer la liste des voisins\n",
        "    neighbors = build_neighbor_list(matrice_triangulaire)\n",
        "\n",
        "    # État initial : aucun sommet colorié\n",
        "    initial_assignment = [None] * n\n",
        "    uncolored = set(range(n))\n",
        "    initial_state = (initial_assignment, uncolored, 0)\n",
        "\n",
        "    stack = [initial_state]\n",
        "    nodes_processed = 0  # Compteur de noeuds explorés\n",
        "\n",
        "    while stack:\n",
        "        nodes_processed += 1\n",
        "        assignment, uncolored, num_colors_used = stack.pop()\n",
        "\n",
        "        # Affichage périodique de la progression\n",
        "        if nodes_processed % 1000 == 0:\n",
        "            print(f\"Nodes processed: {nodes_processed}, Current best: {best_color_count}, Stack size: {len(stack)}\")\n",
        "\n",
        "        if num_colors_used >= best_color_count:\n",
        "            continue\n",
        "\n",
        "        # Si tous les sommets sont coloriés, mise à jour de la meilleure solution.\n",
        "        if not uncolored:\n",
        "            used_colors = len({color for color in assignment if color is not None})\n",
        "            debug_print(f\"Complete solution found with {used_colors} colors: {assignment}\")\n",
        "            if used_colors < best_color_count:\n",
        "                best_color_count = used_colors\n",
        "                best_solution = assignment.copy()\n",
        "                debug_print(f\"New best solution with {best_color_count} colors!\")\n",
        "            continue\n",
        "\n",
        "        # Sélectionner le prochain sommet à colorier par DSATUR\n",
        "        v = select_next_vertex_dsatur(assignment, uncolored, neighbors)\n",
        "        forbidden = {assignment[u] for u in neighbors[v] if assignment[u] is not None}\n",
        "\n",
        "        # Déterminer les couleurs disponibles: celles déjà utilisées non interdites et une nouvelle couleur.\n",
        "        available_colors = [color for color in range(1, num_colors_used + 1) if color not in forbidden]\n",
        "        available_colors.append(num_colors_used + 1)\n",
        "\n",
        "        for color in available_colors:\n",
        "            new_assignment = assignment.copy()\n",
        "            new_assignment[v] = color\n",
        "            new_num_colors_used = max(num_colors_used, color)\n",
        "\n",
        "            # Pruning: Élagage des branches qui ne peuvent pas améliorer la solution.\n",
        "            if new_num_colors_used >= best_color_count:\n",
        "                debug_print(f\"Elagage de la branche dans le noeud {v} avec la couleur {color} (utilise: {new_num_colors_used} >= meilleur: {best_color_count})\")\n",
        "                continue\n",
        "\n",
        "            new_uncolored = uncolored.copy()\n",
        "            new_uncolored.remove(v)\n",
        "            stack.append((new_assignment, new_uncolored, new_num_colors_used))\n",
        "\n",
        "    execution_time = time.time() - start_time\n",
        "    print(f\"Nombre total des noeuds: {nodes_processed}\")\n",
        "    return best_color_count, best_solution, execution_time"
      ]
    },
    {
      "cell_type": "code",
      "execution_count": null,
      "metadata": {
        "id": "fIalEHkhJEvN"
      },
      "outputs": [],
      "source": [
        "def reduce_to_first_n_nodes(matrix, n):\n",
        "    # On prend les n premières lignes de la matrice (en faisant une copie profonde)\n",
        "    return [row[:i+1] for i, row in enumerate(matrix[:n])]"
      ]
    },
    {
      "cell_type": "code",
      "source": [
        "def reduire_dimacs(input_file, output_file, n_noeuds):\n",
        "    \"\"\"\n",
        "    Réduit un fichier DIMACS à un sous-graphe composé des n premiers noeuds.\n",
        "\n",
        "    Cette fonction lit le fichier DIMACS d'entrée, filtre les arêtes dont\n",
        "    les deux extrémités sont comprises dans [1, n_noeuds], met à jour l'en-tête\n",
        "    avec le nouveau nombre de noeuds et d'arêtes, et écrit le résultat dans\n",
        "    le fichier DIMACS de sortie.\n",
        "\n",
        "    :param input_file: Chemin vers le fichier DIMACS original.\n",
        "    :param output_file: Chemin vers le fichier DIMACS réduit à créer.\n",
        "    :param n_noeuds: Nombre de noeuds à retenir (les noeuds 1 à n_noeuds).\n",
        "    \"\"\"\n",
        "    # Lecture du fichier original\n",
        "    with open(input_file, 'r') as f:\n",
        "        lignes = f.readlines()\n",
        "\n",
        "    # Listes pour stocker les lignes de commentaires et les arêtes retenues.\n",
        "    commentaires = []\n",
        "    aretes_retenues = []\n",
        "\n",
        "    for ligne in lignes:\n",
        "        # Conserver toutes les lignes de commentaires\n",
        "        if ligne.startswith(\"c\"):\n",
        "            commentaires.append(ligne)\n",
        "        # On ignore la ligne d'en-tête d'origine (commençant par \"p\") car nous la recalculerons.\n",
        "        elif ligne.startswith(\"p\"):\n",
        "            pass\n",
        "        # Traiter les lignes d'arêtes\n",
        "        elif ligne.startswith(\"e\"):\n",
        "            parts = ligne.strip().split()\n",
        "            if len(parts) < 3:\n",
        "                continue\n",
        "            try:\n",
        "                u = int(parts[1])\n",
        "                v = int(parts[2])\n",
        "            except ValueError:\n",
        "                continue\n",
        "            # Conserver l'arête seulement si les deux noeuds sont dans [1, n_noeuds]\n",
        "            if u <= n_noeuds and v <= n_noeuds:\n",
        "                aretes_retenues.append(ligne)\n",
        "\n",
        "    # Création de la nouvelle ligne d'en-tête\n",
        "    nouvelle_entete = f\"p edge {n_noeuds} {len(aretes_retenues)}\\n\"\n",
        "\n",
        "    # Écriture du nouveau fichier DIMACS\n",
        "    with open(output_file, 'w') as f:\n",
        "        # Ecriture des commentaires existants\n",
        "        for commentaire in commentaires:\n",
        "            f.write(commentaire)\n",
        "        # Ajouter un commentaire sur la réduction\n",
        "        f.write(f\"c Fichier DIMACS réduit aux {n_noeuds} premiers noeuds.\\n\")\n",
        "        # Ecriture de la nouvelle ligne d'en-tête\n",
        "        f.write(nouvelle_entete)\n",
        "        # Ecriture de toutes les arêtes retenues\n",
        "        for arete in aretes_retenues:\n",
        "            f.write(arete)\n"
      ],
      "metadata": {
        "id": "POs-RMcubRoR"
      },
      "execution_count": null,
      "outputs": []
    },
    {
      "cell_type": "code",
      "source": [
        "reduire_dimacs(\"dsjc250.1.col\", \"dsjc155.1.col\", 155)"
      ],
      "metadata": {
        "id": "1IjhEYWAbYgt"
      },
      "execution_count": null,
      "outputs": []
    },
    {
      "cell_type": "code",
      "execution_count": null,
      "metadata": {
        "id": "aTpTy8jeoEoA"
      },
      "outputs": [],
      "source": [
        "url_fichier = \"dsjc152.1.col\"\n",
        "matrice = lire_graphe_triangulaire(url_fichier)\n",
        "# n = 14  # nombre de nœuds à garder\n",
        "# reduced_matrix = reduce_to_first_n_nodes(matrice, n)\n",
        "nb_chromatic, solution, temps = branch_and_bound_coloring_dsatur(matrice)\n",
        "print(\"\\n==========================\")\n",
        "print(\"Nombre chromatique optimal:\", nb_chromatic)\n",
        "print(\"Solution de coloration (par sommet):\", solution)\n",
        "print(\"Temps d'exécution: {:.4f} secondes\".format(temps))"
      ]
    },
    {
      "cell_type": "markdown",
      "metadata": {
        "id": "fgKM1Dt7qfdu"
      },
      "source": [
        "## Isolated graph"
      ]
    },
    {
      "cell_type": "code",
      "execution_count": null,
      "metadata": {
        "id": "Ns6hHLPY5-5Q"
      },
      "outputs": [],
      "source": [
        "# Number of nodes\n",
        "n = 200\n",
        "\n",
        "# Create a lower triangular matrix filled with zeros\n",
        "isolated_graph_lower_triangular = np.zeros((n, n), dtype=int)\n",
        "\n",
        "# Convert to list of lists if needed\n",
        "isolated_graph_matrix_list = isolated_graph_lower_triangular.tolist()\n",
        "# print(isolated_graph_matrix_list)\n",
        "# Print only the lower triangular part\n",
        "g = []\n",
        "for i in range(n):\n",
        "    g.append(isolated_graph_matrix_list[i][:i+1])"
      ]
    },
    {
      "cell_type": "code",
      "execution_count": null,
      "metadata": {
        "colab": {
          "base_uri": "https://localhost:8080/"
        },
        "id": "0HlRXuu1PC3o",
        "outputId": "71a395a8-aa11-4902-9433-39a06a5f31eb"
      },
      "outputs": [
        {
          "name": "stdout",
          "output_type": "stream",
          "text": [
            "Initial heuristic solution: [1, 1, 1, 1, 1, 1, 1, 1, 1, 1, 1, 1, 1, 1, 1, 1, 1, 1, 1, 1, 1, 1, 1, 1, 1, 1, 1, 1, 1, 1, 1, 1, 1, 1, 1, 1, 1, 1, 1, 1, 1, 1, 1, 1, 1, 1, 1, 1, 1, 1, 1, 1, 1, 1, 1, 1, 1, 1, 1, 1, 1, 1, 1, 1, 1, 1, 1, 1, 1, 1, 1, 1, 1, 1, 1, 1, 1, 1, 1, 1, 1, 1, 1, 1, 1, 1, 1, 1, 1, 1, 1, 1, 1, 1, 1, 1, 1, 1, 1, 1, 1, 1, 1, 1, 1, 1, 1, 1, 1, 1, 1, 1, 1, 1, 1, 1, 1, 1, 1, 1, 1, 1, 1, 1, 1, 1, 1, 1, 1, 1, 1, 1, 1, 1, 1, 1, 1, 1, 1, 1, 1, 1, 1, 1, 1, 1, 1, 1, 1, 1, 1, 1, 1, 1, 1, 1, 1, 1, 1, 1, 1, 1, 1, 1, 1, 1, 1, 1, 1, 1, 1, 1, 1, 1, 1, 1, 1, 1, 1, 1, 1, 1, 1, 1, 1, 1, 1, 1, 1, 1, 1, 1, 1, 1, 1, 1, 1, 1, 1, 1] using 1 colors.\n",
            "Elagage de la branche dans le noeud 0 avec la couleur 1 (utilise: 1 >= meilleur: 1)\n",
            "Nombre total des noeuds: 1\n",
            "\n",
            "==========================\n",
            "Nombre chromatique optimal: 1\n",
            "Solution de coloration (par sommet): [1, 1, 1, 1, 1, 1, 1, 1, 1, 1, 1, 1, 1, 1, 1, 1, 1, 1, 1, 1, 1, 1, 1, 1, 1, 1, 1, 1, 1, 1, 1, 1, 1, 1, 1, 1, 1, 1, 1, 1, 1, 1, 1, 1, 1, 1, 1, 1, 1, 1, 1, 1, 1, 1, 1, 1, 1, 1, 1, 1, 1, 1, 1, 1, 1, 1, 1, 1, 1, 1, 1, 1, 1, 1, 1, 1, 1, 1, 1, 1, 1, 1, 1, 1, 1, 1, 1, 1, 1, 1, 1, 1, 1, 1, 1, 1, 1, 1, 1, 1, 1, 1, 1, 1, 1, 1, 1, 1, 1, 1, 1, 1, 1, 1, 1, 1, 1, 1, 1, 1, 1, 1, 1, 1, 1, 1, 1, 1, 1, 1, 1, 1, 1, 1, 1, 1, 1, 1, 1, 1, 1, 1, 1, 1, 1, 1, 1, 1, 1, 1, 1, 1, 1, 1, 1, 1, 1, 1, 1, 1, 1, 1, 1, 1, 1, 1, 1, 1, 1, 1, 1, 1, 1, 1, 1, 1, 1, 1, 1, 1, 1, 1, 1, 1, 1, 1, 1, 1, 1, 1, 1, 1, 1, 1, 1, 1, 1, 1, 1, 1]\n",
            "Temps d'exécution: 0.0081 secondes\n"
          ]
        }
      ],
      "source": [
        "nb_chromatic, solution, temps = branch_and_bound_coloring_dsatur(g)\n",
        "print(\"\\n==========================\")\n",
        "print(\"Nombre chromatique optimal:\", nb_chromatic)\n",
        "print(\"Solution de coloration (par sommet):\", solution)\n",
        "print(\"Temps d'exécution: {:.4f} secondes\".format(temps))"
      ]
    }
  ],
  "metadata": {
    "colab": {
      "provenance": [],
      "include_colab_link": true
    },
    "kernelspec": {
      "display_name": "Python 3",
      "name": "python3"
    },
    "language_info": {
      "name": "python"
    }
  },
  "nbformat": 4,
  "nbformat_minor": 0
}