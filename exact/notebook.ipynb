{
  "cells": [
    {
      "cell_type": "markdown",
      "metadata": {
        "id": "view-in-github",
        "colab_type": "text"
      },
      "source": [
        "<a href=\"https://colab.research.google.com/github/YahiaAbdeldjalilBenyahia/graph-coloring/blob/main/exact/notebook.ipynb\" target=\"_parent\"><img src=\"https://colab.research.google.com/assets/colab-badge.svg\" alt=\"Open In Colab\"/></a>"
      ]
    },
    {
      "cell_type": "markdown",
      "metadata": {
        "id": "pnG7ilITMZIS"
      },
      "source": [
        "### *Used Gemini 2.0 Flash for generating common huristics, also for text to matrix conversion*\n",
        "---\n",
        "\n"
      ]
    },
    {
      "cell_type": "code",
      "execution_count": null,
      "metadata": {
        "id": "xoCG4pvcKxqF"
      },
      "outputs": [],
      "source": [
        "import numpy as np\n",
        "import random\n",
        "import time"
      ]
    },
    {
      "cell_type": "markdown",
      "metadata": {
        "id": "K8xWu3QBKxqM"
      },
      "source": [
        "### 1. Reading graph and converting to adjacent matrix"
      ]
    },
    {
      "cell_type": "code",
      "execution_count": null,
      "metadata": {
        "colab": {
          "base_uri": "https://localhost:8080/"
        },
        "id": "SXsCZ5wwKxqP",
        "outputId": "a5e0b656-8478-4505-afc9-700e733d64fe"
      },
      "outputs": [
        {
          "output_type": "stream",
          "name": "stdout",
          "text": [
            "Number of vertices: 125\n",
            "[[0 1 1 ... 0 0 0]\n",
            " [1 0 1 ... 0 0 1]\n",
            " [1 1 0 ... 0 0 0]\n",
            " ...\n",
            " [0 0 0 ... 0 1 0]\n",
            " [0 0 0 ... 1 0 0]\n",
            " [0 1 0 ... 0 0 0]]\n"
          ]
        }
      ],
      "source": [
        "import requests\n",
        "\n",
        "url = \"https://cedric.cnam.fr/~porumbed/graphs/r125.5.col\"\n",
        "response = requests.get(url)\n",
        "text = response.text\n",
        "# Split the text into lines\n",
        "lines = text.split('\\n')\n",
        "\n",
        "# Split the text into lines\n",
        "lines = text.split('\\n')\n",
        "\n",
        "# Find the line that starts with 'p' which contains the number of vertices and edges\n",
        "num_vertices = -1\n",
        "for line in lines:\n",
        "    if line.startswith('p'):\n",
        "        parts = line.split()\n",
        "        num_vertices = int(parts[2])\n",
        "        break\n",
        "\n",
        "print(f\"Number of vertices: {num_vertices}\")\n",
        "# Initialize an adjacency matrix with zeros\n",
        "adj_matrix = np.zeros((num_vertices, num_vertices), dtype=int)\n",
        "\n",
        "# Iterate through each line in the text\n",
        "for line in lines:\n",
        "    if line.startswith('e'):\n",
        "        parts = line.split()\n",
        "        a = int(parts[1]) - 1  # Convert to zero-based index\n",
        "        b = int(parts[2]) - 1  # Convert to zero-based index\n",
        "        adj_matrix[a][b] = 1\n",
        "        adj_matrix[b][a] = 1  # Since the graph is undirected\n",
        "\n",
        "print(adj_matrix)"
      ]
    },
    {
      "cell_type": "code",
      "execution_count": null,
      "metadata": {
        "id": "vF4pxBg2KxqW"
      },
      "outputs": [],
      "source": [
        "N = num_vertices # Number of nodes in adjacency matrix\n",
        "UNDEFINED_COLOR = 999999 # this is used for indicating that the node is not colored"
      ]
    },
    {
      "cell_type": "code",
      "execution_count": null,
      "metadata": {
        "id": "oFd3oP0SKxqW"
      },
      "outputs": [],
      "source": [
        "# sorting nodes high to low based on node degree\n",
        "# node_degree = {(node_index, corresponding degree)}\n",
        "node_degrees = sorted([(i, np.sum(adj_matrix[i])) for i in range(N)], key=lambda x: -x[1]) # (node, degree) sorted desc by degree"
      ]
    },
    {
      "cell_type": "markdown",
      "metadata": {
        "id": "XXHehAtvKxqX"
      },
      "source": [
        "### Defining node of search tree"
      ]
    },
    {
      "cell_type": "code",
      "execution_count": null,
      "metadata": {
        "id": "6--GYFzDKxqY"
      },
      "outputs": [],
      "source": [
        "class Node:\n",
        "    def __init__(self, colors, borne_inf):\n",
        "        self.colors = colors\n",
        "        self.borne_inf = np.nan"
      ]
    },
    {
      "cell_type": "markdown",
      "metadata": {
        "id": "TieLE1NnNckr"
      },
      "source": [
        "#### Copying an array"
      ]
    },
    {
      "cell_type": "code",
      "execution_count": null,
      "metadata": {
        "id": "d_HEE-OLKxqZ"
      },
      "outputs": [],
      "source": [
        "def copy(ar):\n",
        "    cp = []\n",
        "    for i in range(len(ar)):\n",
        "        cp.append(ar[i])\n",
        "    return cp"
      ]
    },
    {
      "cell_type": "markdown",
      "metadata": {
        "id": "Zp2wRsyON2Ra"
      },
      "source": [
        "### Using construction method"
      ]
    },
    {
      "cell_type": "code",
      "execution_count": null,
      "metadata": {
        "id": "dhsV5KQKKxqZ",
        "colab": {
          "base_uri": "https://localhost:8080/"
        },
        "outputId": "4369dbc7-7e01-43f7-f46d-ed40ea1dbc27"
      },
      "outputs": [
        {
          "output_type": "stream",
          "name": "stdout",
          "text": [
            "Total Execution Time: 0.38 seconds\n",
            "Best solution (minimum number of colors): 38\n",
            "Coloring of nodes: [ 1  2  3 20 32  5  6  4 19  4 23 34 11  6  5  3 26  6 18 29 35  7  8  8\n",
            "  9  5 10 22 11 12 16 15 30  9 13 19  8 13  7 28 14 12 15  3 17 12 15 21\n",
            " 16 27  9 26 17 20  4 14 14  8  2  4  6 25 12  1 29  3 33 13 18 19 27 19\n",
            "  2  9 20 21  1 34 31 17 22  7 21 10 27 33 35 28  1  4  2 23 36  2 36 30\n",
            " 24 25  1 10 26 17  5 18 16 27 24 31 32 28 29  9 37 15 14  7 23 30 22 31\n",
            " 24 26 10  3 38]\n"
          ]
        }
      ],
      "source": [
        "class BranchAndBound:\n",
        "    def __init__(self, adj_matrix, N, UNDEFINED_COLOR):\n",
        "        self.adj_matrix = adj_matrix\n",
        "        self.N = N\n",
        "        self.UNDEFINED_COLOR = UNDEFINED_COLOR\n",
        "        self.best_solution = None\n",
        "        self.best_colors = None\n",
        "\n",
        "    def dsatur(self, colors):\n",
        "        \"\"\"\n",
        "        DSATUR Graph Coloring Algorithm.\n",
        "\n",
        "        Args:\n",
        "            adj_matrix: Adjacency matrix of the undirected graph.\n",
        "            N: Number of nodes in the graph.\n",
        "            UNDEFINED_COLOR: Value representing an unassigned color.\n",
        "            colors: A list of integers representing the color assigned to each node.\n",
        "               Initialized with UNDEFINED_COLOR.\n",
        "\n",
        "        Returns:\n",
        "         A list of integers representing the color assigned to each node.\n",
        "        \"\"\"\n",
        "\n",
        "        saturation_degrees = np.zeros(N, dtype=int)  # Saturation degree of each node\n",
        "        available_colors = [set() for _ in range(N)]  # Available colors for each node\n",
        "\n",
        "        # Initialize saturation degrees and available colors\n",
        "        for i in range(N):\n",
        "            available_colors[i] = set(range(1, N + 1))  # Initially all colors are available\n",
        "\n",
        "        uncolored_nodes = list(range(N))\n",
        "\n",
        "        while uncolored_nodes:\n",
        "            # Find the node with the maximum saturation degree\n",
        "            max_sat_node = -1\n",
        "            max_sat_degree = -1\n",
        "            for node in uncolored_nodes:\n",
        "                if saturation_degrees[node] > max_sat_degree:\n",
        "                    max_sat_degree = saturation_degrees[node]\n",
        "                    max_sat_node = node\n",
        "                elif saturation_degrees[node] == max_sat_degree and len(available_colors[node]) < len(available_colors[max_sat_node]):\n",
        "                    max_sat_node = node\n",
        "\n",
        "            if max_sat_node == -1:\n",
        "                # All remaining nodes have saturation degree 0, pick one with smallest available colors\n",
        "                min_available_colors = float('inf')\n",
        "                for node in uncolored_nodes:\n",
        "                    if len(available_colors[node]) < min_available_colors:\n",
        "                        min_available_colors = len(available_colors[node])\n",
        "                        max_sat_node = node\n",
        "\n",
        "            # Find the smallest available color for the selected node\n",
        "            chosen_color = min(available_colors[max_sat_node])\n",
        "\n",
        "            colors[max_sat_node] = chosen_color\n",
        "            uncolored_nodes.remove(max_sat_node)\n",
        "\n",
        "            # Update saturation degrees and available colors of neighbors\n",
        "            for neighbor in range(N):\n",
        "                if adj_matrix[max_sat_node][neighbor] == 1:\n",
        "                    if colors[neighbor] == UNDEFINED_COLOR:\n",
        "                        available_colors[neighbor].discard(chosen_color)\n",
        "                        if chosen_color not in [colors[n] for n in range(N) if adj_matrix[neighbor][n] == 1 and colors[n] != UNDEFINED_COLOR]:\n",
        "                            saturation_degrees[neighbor] += 1\n",
        "\n",
        "        return len(set(colors))\n",
        "\n",
        "\n",
        "\n",
        "    def welsh_powell(self, colors):\n",
        "        \"\"\"\n",
        "        Welsh-Powell Graph Coloring Algorithm.\n",
        "\n",
        "        Args:\n",
        "            adj_matrix: Adjacency matrix of the undirected graph.\n",
        "            N: Number of nodes in the graph.\n",
        "            UNDEFINED_COLOR: Value representing an unassigned color.\n",
        "            colors: A list of integers representing the color assigned to each node.\n",
        "               Initialized with UNDEFINED_COLOR.\n",
        "\n",
        "        Returns:\n",
        "            A list of integers representing the color assigned to each node.\n",
        "        \"\"\"\n",
        "\n",
        "        # Sort nodes by degree in descending order\n",
        "        degrees = np.sum(adj_matrix, axis=1)\n",
        "        sorted_nodes = sorted(range(N), key=lambda x: degrees[x], reverse=True)\n",
        "\n",
        "        available_colors = set(range(1, N + 1))\n",
        "\n",
        "        for node in sorted_nodes:\n",
        "            for color in available_colors:\n",
        "                is_safe = True\n",
        "                for neighbor in range(N):\n",
        "                    if adj_matrix[node][neighbor] == 1 and colors[neighbor] == color:\n",
        "                        is_safe = False\n",
        "                        break\n",
        "                if is_safe:\n",
        "                    colors[node] = color\n",
        "                    break\n",
        "        return len(set(colors))\n",
        "\n",
        "    def greedy_coloring(self, colors):\n",
        "        \"\"\"\n",
        "        Greedy Graph Coloring Algorithm (with pre-colored nodes).\n",
        "\n",
        "        Args:\n",
        "            adj_matrix: Adjacency matrix of the undirected graph.\n",
        "            N: Number of nodes in the graph.\n",
        "            colors: A list of integers representing the initial color assignment for each node.\n",
        "               Nodes that are not pre-colored should have a value like 0 (or any value representing \"uncolored\").\n",
        "\n",
        "        Returns:\n",
        "            The number of colors used in the coloring.  The 'colors' list is also modified in place.\n",
        "        \"\"\"\n",
        "        for node in range(N):\n",
        "            if colors[node] == UNDEFINED_COLOR: # Only color if the node is not pre-colored\n",
        "                available_colors = set(range(1, N + 1))  # All possible colors initially\n",
        "                for neighbor in range(N):\n",
        "                    if adj_matrix[node][neighbor] == 1 and colors[neighbor] != UNDEFINED_COLOR:\n",
        "                        available_colors.discard(colors[neighbor])  # Remove neighbor's color\n",
        "\n",
        "                if available_colors:\n",
        "                    colors[node] = min(available_colors)\n",
        "                else:\n",
        "                    max_used_color = max(colors) if any(colors) else 0\n",
        "                    colors[node] = max_used_color + 1\n",
        "\n",
        "        return len(set(colors))\n",
        "\n",
        "    def largest_degree_first(self, colors):\n",
        "        \"\"\"\n",
        "        Largest Degree First (LDF) Graph Coloring Heuristic.\n",
        "\n",
        "        Args:\n",
        "            adj_matrix: Adjacency matrix of the undirected graph.\n",
        "            N: Number of nodes in the graph.\n",
        "\n",
        "        Returns:\n",
        "            The number of colors used in the coloring.\n",
        "        \"\"\"\n",
        "\n",
        "        # Calculate degrees and sort nodes by degree (descending)\n",
        "        degrees = np.sum(adj_matrix, axis=1)\n",
        "        sorted_nodes = sorted(range(N), key=lambda x: degrees[x], reverse=True)\n",
        "\n",
        "        for node in sorted_nodes:\n",
        "            available_colors = set(range(1, N + 1))  # All possible colors initially\n",
        "            for neighbor in range(N):\n",
        "                if adj_matrix[node][neighbor] == 1 and colors[neighbor] != UNDEFINED_COLOR:\n",
        "                    available_colors.discard(colors[neighbor])\n",
        "\n",
        "            if available_colors:\n",
        "                colors[node] = min(available_colors)\n",
        "            else:  # No available colors, assign a new one\n",
        "                max_used_color = max(colors) if any(colors) else 0\n",
        "                colors[node] = max_used_color + 1\n",
        "\n",
        "        return len(set(colors))\n",
        "\n",
        "    def incidence_degree_ordering(self, colors):\n",
        "        \"\"\"\n",
        "        Incidence Degree Ordering (IDO) Graph Coloring Heuristic.\n",
        "\n",
        "        Args:\n",
        "            adj_matrix: Adjacency matrix of the undirected graph.\n",
        "            N: Number of nodes in the graph.\n",
        "\n",
        "        Returns:\n",
        "            The number of colors used in the coloring.\n",
        "        \"\"\"\n",
        "        # Calculate incidence degrees (number of differently colored neighbors)\n",
        "        incidence_degrees = np.zeros(N, dtype=int)\n",
        "\n",
        "        for _ in range(N):  # Iterate N times to color all nodes\n",
        "            # Find the node with the maximum incidence degree among uncolored nodes\n",
        "            max_incidence_node = -1\n",
        "            max_incidence_degree = -1\n",
        "            for node in range(N):\n",
        "                if colors[node] == UNDEFINED_COLOR and incidence_degrees[node] > max_incidence_degree:\n",
        "                    max_incidence_degree = incidence_degrees[node]\n",
        "                    max_incidence_node = node\n",
        "\n",
        "            if max_incidence_node != -1: # if we found a node to color\n",
        "                available_colors = set(range(1, N + 1))\n",
        "                for neighbor in range(N):\n",
        "                    if adj_matrix[max_incidence_node][neighbor] == 1 and colors[neighbor] != UNDEFINED_COLOR:\n",
        "                        available_colors.discard(colors[neighbor])\n",
        "\n",
        "                if available_colors:\n",
        "                    colors[max_incidence_node] = min(available_colors)\n",
        "                else:\n",
        "                    max_used_color = max(colors) if any(colors) else 0\n",
        "                    colors[max_incidence_node] = max_used_color + 1\n",
        "\n",
        "                # Update incidence degrees of uncolored neighbors\n",
        "                for neighbor in range(N):\n",
        "                    if adj_matrix[max_incidence_node][neighbor] == 1 and colors[neighbor] == UNDEFINED_COLOR:\n",
        "                        neighbor_colors = set()\n",
        "                        for nn in range(N):\n",
        "                            if adj_matrix[neighbor][nn] == 1 and colors[nn] != UNDEFINED_COLOR:\n",
        "                                neighbor_colors.add(colors[nn])\n",
        "                        incidence_degrees[neighbor] = len(neighbor_colors)\n",
        "\n",
        "        return len(set(colors))\n",
        "\n",
        "\n",
        "\n",
        "    def getBorneinf(self, colors):\n",
        "        # return min(self.welsh_powell(colors), self.dsatur(colors))\n",
        "        return self.dsatur(colors)\n",
        "        # return min(self.dsatur(colors), self.welsh_powell(colors))\n",
        "    def possibleColoring(self, node_index, color, current_coloring):\n",
        "        '''\n",
        "        this return true if it is possible to colorify node_index with color, given that we already have\n",
        "        colored some nodes of the graph (current_coloring)\n",
        "        '''\n",
        "        for j in range(self.N):\n",
        "            if self.adj_matrix[node_index][j] == 1:\n",
        "                if current_coloring[j] == color:\n",
        "                    return False\n",
        "        return True\n",
        "\n",
        "    def explore(self, node):\n",
        "        # if the graph is fully colored (node has no uncolored graph)\n",
        "        if UNDEFINED_COLOR not in node.colors:\n",
        "            if len(set(node.colors)) < self.best_solution:\n",
        "              self.best_solution = len(set(node.colors))\n",
        "              self.best_colors = node.colors.copy()\n",
        "            return\n",
        "        for i in range(self.N):\n",
        "            if node.colors[i] == self.UNDEFINED_COLOR:\n",
        "                for color in range(self.N):\n",
        "                    if self.possibleColoring(i, color, node.colors):\n",
        "                        possible_child_colors = node.colors.copy()\n",
        "                        possible_child_colors[i] = color\n",
        "                        eval_inf = self.getBorneinf(possible_child_colors.copy())\n",
        "                        if eval_inf > self.best_solution:\n",
        "                            continue # elagage\n",
        "                        else:\n",
        "                            self.best_solution = eval_inf\n",
        "                            self.best_colors = possible_child_colors.copy()\n",
        "                        child = Node(possible_child_colors, eval_inf)\n",
        "                        self.explore(child)\n",
        "\n",
        "    def explore_iter(self, node):\n",
        "        stack = [node]\n",
        "        while stack:\n",
        "          current = stack.pop()\n",
        "          # if the graph is fully colored (node has no uncolored graph)\n",
        "          if UNDEFINED_COLOR not in node.colors:\n",
        "            if len(set(current.colors)) < self.best_solution:\n",
        "              self.best_solution = len(set(current.colors))\n",
        "              self.best_colors = current.colors.copy()\n",
        "              continue\n",
        "          for i in range(self.N):\n",
        "            if current.colors[i] == self.UNDEFINED_COLOR:\n",
        "                for color in range(self.N):\n",
        "                    if self.possibleColoring(i, color, current.colors):\n",
        "                        possible_child_colors = current.colors.copy()\n",
        "                        possible_child_colors[i] = color\n",
        "                        eval_inf = self.getBorneinf(possible_child_colors.copy())\n",
        "                        if eval_inf > self.best_solution:\n",
        "                            continue # elagage\n",
        "                        else:\n",
        "                            self.best_solution = eval_inf\n",
        "                            self.best_colors = possible_child_colors.copy()\n",
        "                        child = Node(possible_child_colors, eval_inf)\n",
        "                        stack.append(child)\n",
        "\n",
        "    def solve(self):\n",
        "        colors = np.zeros(self.N, dtype=int) + self.UNDEFINED_COLOR # all nodes are uncolored initially\n",
        "        colors[0] = 0 # initialize a coloring for node 0\n",
        "        borne_inf = self.getBorneinf(colors)\n",
        "        root = Node(colors, borne_inf) # root node\n",
        "        self.best_solution = borne_inf\n",
        "        self.best_colors = colors.copy()\n",
        "        self.explore_iter(root)\n",
        "        return self.best_solution, self.best_colors\n",
        "\n",
        "# Initialize the BranchAndBound class and solve the problem\n",
        "bb = BranchAndBound(adj_matrix, N, UNDEFINED_COLOR)\n",
        "start_time = time.time()\n",
        "best_solution, best_colors = bb.solve()\n",
        "# Record end time\n",
        "end_time = time.time()\n",
        "\n",
        "# Calculate execution time\n",
        "execution_time = end_time - start_time\n",
        "print(f\"Total Execution Time: {execution_time:.2f} seconds\")\n",
        "print(f\"Best solution (minimum number of colors): {best_solution}\")\n",
        "print(f\"Coloring of nodes: {best_colors}\")"
      ]
    },
    {
      "cell_type": "markdown",
      "metadata": {
        "id": "b_O8Jc8H0wWD"
      },
      "source": [
        "### Some plots"
      ]
    },
    {
      "cell_type": "code",
      "execution_count": null,
      "metadata": {
        "id": "isCNa9yh0uiL"
      },
      "outputs": [],
      "source": [
        "import matplotlib.pyplot as plt"
      ]
    },
    {
      "cell_type": "code",
      "execution_count": null,
      "metadata": {
        "id": "nB86xb4W1Dbk"
      },
      "outputs": [],
      "source": [
        "def plot_grouped_histograms(dicts, labels, colors=None):\n",
        "    \"\"\"\n",
        "    Plots grouped histograms to compare multiple methods for each graph on a single axis.\n",
        "\n",
        "    :param dicts: List of dictionaries (each dict is {\"string\": integer}).\n",
        "    :param labels: List of labels for each method.\n",
        "    :param colors: List of colors for each method (optional).\n",
        "    \"\"\"\n",
        "    keys = sorted(set().union(*dicts))  # Get unique sorted keys (graph names)\n",
        "    num_dicts = len(dicts)\n",
        "    x = np.arange(len(keys))  # X positions for groups\n",
        "    width = 0.2  # Width of each bar\n",
        "\n",
        "    if colors is None:\n",
        "        colors = ['blue', 'green', 'red']\n",
        "\n",
        "    fig, ax = plt.subplots(figsize=(12, 6))\n",
        "\n",
        "    for i, (data_dict, label) in enumerate(zip(dicts, labels)):\n",
        "        values = [data_dict.get(k, 0) for k in keys]  # Get values, default to 0 if missing\n",
        "        bars = ax.bar(x + (i - (num_dicts - 1) / 2) * width, values, width, label=label, color=colors[i % len(colors)], alpha=0.7)\n",
        "\n",
        "        # Add value labels above bars\n",
        "        for bar in bars:\n",
        "            height = bar.get_height()\n",
        "            ax.text(bar.get_x() + bar.get_width()/2, height, f'{height}', ha='center', va='bottom', fontsize=10)\n",
        "\n",
        "    ax.set_xticks(x)\n",
        "    ax.set_xticklabels(keys, rotation=90)  # Rotate x-axis labels vertically\n",
        "    ax.set_xlabel(\"Graphs\")\n",
        "    ax.set_ylabel(\"Best K\")\n",
        "    ax.set_title(\"Comparaison des heuristiques de coloration\")\n",
        "    ax.legend()\n",
        "    ax.grid(axis='y', linestyle='--', alpha=0.7)\n",
        "\n",
        "    plt.tight_layout()\n",
        "    plt.show()"
      ]
    },
    {
      "cell_type": "code",
      "execution_count": null,
      "metadata": {
        "id": "TR8DkStd1E3y",
        "colab": {
          "base_uri": "https://localhost:8080/",
          "height": 607
        },
        "outputId": "4ac63ac5-4374-483e-d4f3-eb38435e061c"
      },
      "outputs": [
        {
          "output_type": "display_data",
          "data": {
            "text/plain": [
              "<Figure size 1200x600 with 1 Axes>"
            ],
            "image/png": "[encoded data removed]"
          },
          "metadata": {}
        }
      ],
      "source": [
        "dsatur = {\"r250.5\": 68, \"r1000.1c\": 111, \"r1000.5\": 247, \"dsjr500.1c\": 92, \"dsjr500.5\":127, \"le450_25c\":29, \"le450_25d\":29, \"flat1000_76_0\":114, \"latin_square\":132, \"r250.1\":8, \"r250.1c\":64, \"dsjr500.1\":13}\n",
        "welsh = {\"r250.5\": 70, \"r1000.1c\": 114, \"r1000.5\": 259, \"dsjr500.1c\": 100, \"dsjr500.5\":134, \"le450_25c\":29, \"le450_25d\":30, \"flat1000_76_0\":123, \"latin_square\":213, \"r250.1\":8, \"r250.1c\":68, \"dsjr500.1\":13}\n",
        "incidence_deg_ord = {\"r250.5\": 70, \"r1000.1c\": 111, \"r1000.5\": 243, \"dsjr500.1c\": 95, \"dsjr500.5\":127, \"le450_25c\":30, \"le450_25d\":30, \"flat1000_76_0\":118, \"latin_square\":132, \"r250.1\":8, \"r250.1c\":64, \"dsjr500.1\":13}\n",
        "\n",
        "plot_grouped_histograms([dsatur, welsh, incidence_deg_ord], labels=[\"DSATUR\", \"Welsh & Powell\", \"Incidence Degree Ordering\"])\n"
      ]
    }
  ],
  "metadata": {
    "colab": {
      "provenance": [],
      "include_colab_link": true
    },
    "kernelspec": {
      "display_name": "Python 3",
      "language": "python",
      "name": "python3"
    },
    "language_info": {
      "codemirror_mode": {
        "name": "ipython",
        "version": 3
      },
      "file_extension": ".py",
      "mimetype": "text/x-python",
      "name": "python",
      "nbconvert_exporter": "python",
      "pygments_lexer": "ipython3",
      "version": "3.10.8"
    }
  },
  "nbformat": 4,
  "nbformat_minor": 0
}