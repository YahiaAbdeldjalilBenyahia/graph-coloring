{
  "cells": [
    {
      "cell_type": "markdown",
      "metadata": {
        "id": "view-in-github",
        "colab_type": "text"
      },
      "source": [
        "<a href=\"https://colab.research.google.com/github/YahiaAbdeldjalilBenyahia/graph-coloring/blob/main/heuristic/notebook.ipynb\" target=\"_parent\"><img src=\"https://colab.research.google.com/assets/colab-badge.svg\" alt=\"Open In Colab\"/></a>"
      ]
    },
    {
      "cell_type": "markdown",
      "metadata": {
        "id": "WeQQ4aX89QI4"
      },
      "source": [
        "# **Implementation des heuristiques pour le probleme de coloration de graphe**"
      ]
    },
    {
      "cell_type": "markdown",
      "metadata": {
        "id": "uLyEPgV89eWZ"
      },
      "source": [
        "## **Fonctions Utilitaires**"
      ]
    },
    {
      "cell_type": "code",
      "execution_count": null,
      "metadata": {
        "id": "NnOz7XlWJ6TO"
      },
      "outputs": [],
      "source": [
        "import time\n",
        "import numpy as np\n",
        "import requests\n",
        "import random\n",
        "import matplotlib.pyplot as plt"
      ]
    },
    {
      "cell_type": "code",
      "execution_count": null,
      "metadata": {
        "id": "GWjm521Z9N2j"
      },
      "outputs": [],
      "source": [
        "#fonction recuperation du graphe du website DMACS (made by samia et assala)\n",
        "def lire_graphe_triangulaire(url_fichier,is_url):\n",
        "    \"\"\"\n",
        "    Lit un fichier DIMACS et convertit le graphe en une matrice triangulaire inférieure.\n",
        "\n",
        "    :param url_fichier: URL du fichier .col contenant le graphe\n",
        "    :return: Matrice triangulaire inférieure sous forme de liste de listes\n",
        "    \"\"\"\n",
        "    lignes = []\n",
        "    if(is_url):\n",
        "      response = requests.get(url_fichier)\n",
        "      text = response.text\n",
        "      lignes = text.split('\\n')\n",
        "    else:\n",
        "      with open(url_fichier, 'r') as f:\n",
        "        lignes = f.readlines()\n",
        "\n",
        "    nb_sommets = 0\n",
        "    aretes = []\n",
        "\n",
        "    for ligne in lignes:\n",
        "        ligne = ligne.strip()\n",
        "        if ligne.startswith('p'):\n",
        "            _, _, nb_sommets, _ = ligne.split()\n",
        "            nb_sommets = int(nb_sommets)\n",
        "        elif ligne.startswith('e'):\n",
        "            _, sommet1, sommet2 = ligne.split()\n",
        "            sommet1, sommet2 = int(sommet1), int(sommet2)\n",
        "            aretes.append((sommet1, sommet2))\n",
        "\n",
        "    # Création de la matrice triangulaire inférieure\n",
        "    matrice_triangulaire = [[0] * (i + 1) for i in range(nb_sommets)]\n",
        "    for sommet1, sommet2 in aretes:\n",
        "        sommet1 -= 1  # Ajustement des indices (DIMACS commence à 1)\n",
        "        sommet2 -= 1\n",
        "        if sommet1 > sommet2:\n",
        "            matrice_triangulaire[sommet1][sommet2] = 1\n",
        "        else:\n",
        "            matrice_triangulaire[sommet2][sommet1] = 1\n",
        "\n",
        "    return matrice_triangulaire, nb_sommets"
      ]
    },
    {
      "cell_type": "code",
      "execution_count": null,
      "metadata": {
        "id": "-CV9ky48yzsu"
      },
      "outputs": [],
      "source": [
        "#fonction recuperation du graphe du website DMACS (made by samia et assala)\n",
        "def lire_graphe_full(url_fichier,is_url):\n",
        "    \"\"\"\n",
        "    Lit un fichier DIMACS et convertit le graphe en une matrice triangulaire inférieure.\n",
        "\n",
        "    :param url_fichier: URL du fichier .col contenant le graphe\n",
        "    :return: Matrice triangulaire inférieure sous forme de liste de listes\n",
        "    \"\"\"\n",
        "    lignes = []\n",
        "    if(is_url):\n",
        "      response = requests.get(url_fichier)\n",
        "      text = response.text\n",
        "      lignes = text.split('\\n')\n",
        "    else:\n",
        "      with open(url_fichier, 'r') as f:\n",
        "        lignes = f.readlines()\n",
        "\n",
        "    nb_sommets = 0\n",
        "    aretes = []\n",
        "\n",
        "    for ligne in lignes:\n",
        "        ligne = ligne.strip()\n",
        "        if ligne.startswith('p'):\n",
        "            _, _, nb_sommets, _ = ligne.split()\n",
        "            nb_sommets = int(nb_sommets)\n",
        "        elif ligne.startswith('e'):\n",
        "            _, sommet1, sommet2 = ligne.split()\n",
        "            sommet1, sommet2 = int(sommet1), int(sommet2)\n",
        "            aretes.append((sommet1, sommet2))\n",
        "\n",
        "    # Création de la matrice triangulaire inférieure\n",
        "    matrice_full = [[0] * (nb_sommets) for i in range(nb_sommets)]\n",
        "    for sommet1, sommet2 in aretes:\n",
        "        sommet1 -= 1  # Ajustement des indices (DIMACS commence à 1)\n",
        "        sommet2 -= 1\n",
        "        matrice_full[sommet1][sommet2] = 1\n",
        "        matrice_full[sommet2][sommet1] = 1\n",
        "\n",
        "    return matrice_full, nb_sommets"
      ]
    },
    {
      "cell_type": "code",
      "execution_count": null,
      "metadata": {
        "id": "DDRDfpVtBNu9"
      },
      "outputs": [],
      "source": [
        "def get_neighbors(node, matrice_triangulaire,n):\n",
        "        \"\"\"\n",
        "        Retourne l'ensemble des voisins du nœud 'node' en utilisant la matrice triangulaire.\n",
        "        Pour un nœud i, les voisins sont ceux :\n",
        "          - Dans la même ligne pour les indices j < i (si matrice[i][j] == 1)\n",
        "          - Dans les lignes suivantes pour lesquels le nœud i apparaît (si matrice[k][i] == 1 pour k > i)\n",
        "        \"\"\"\n",
        "        neighbors = set()\n",
        "        # Pour les indices j < node, vérifier la ligne 'node'\n",
        "        for j in range(node):\n",
        "            if matrice_triangulaire[node][j] == 1:\n",
        "                neighbors.add(j)\n",
        "        # Pour les indices > node, le nœud 'node' se trouve en colonne dans la ligne k\n",
        "        for k in range(node + 1, n):\n",
        "            if matrice_triangulaire[k][node] == 1:\n",
        "                neighbors.add(k)\n",
        "        return neighbors"
      ]
    },
    {
      "cell_type": "markdown",
      "metadata": {
        "id": "S50u98x-fx8z"
      },
      "source": [
        "## **Heuristiques pures**\n",
        "\n",
        "> 4, par construction : Welsh et Powell, DSatur, RLF et Incidence Degree Ordering\n",
        "\n"
      ]
    },
    {
      "cell_type": "markdown",
      "metadata": {
        "id": "z3ULLXla91Pu"
      },
      "source": [
        "### Welsh et Powell"
      ]
    },
    {
      "cell_type": "code",
      "execution_count": null,
      "metadata": {
        "id": "Ok7QJ5ZN97eQ"
      },
      "outputs": [],
      "source": [
        "def welsh_powell(matrice_triangulaire):\n",
        "    \"\"\"\n",
        "    Applique l'algorithme de Welsh-Powell sur une matrice triangulaire inférieure.\n",
        "\n",
        "    :param matrice_triangulaire: Matrice triangulaire inférieure représentant le graphe.\n",
        "    :return: (Nombre chromatique, Liste des couleurs attribuées à chaque sommet, Temps d'exécution)\n",
        "    \"\"\"\n",
        "    start_time = time.time()  # Début du calcul du temps\n",
        "\n",
        "    n = len(matrice_triangulaire)\n",
        "    sommets = list(range(n))\n",
        "\n",
        "    # Calculer les degrés des sommets\n",
        "    degres = [len(get_neighbors(i, matrice_triangulaire, n)) for i in range(n)]\n",
        "\n",
        "    # Trier les sommets par degré décroissant\n",
        "    sommets.sort(key=lambda x: degres[x], reverse=True)\n",
        "\n",
        "    couleur_attribuee = [-1] * n  # -1 signifie non colorié\n",
        "\n",
        "    for sommet in sommets:\n",
        "        if couleur_attribuee[sommet] == -1:  # Si le sommet n'est pas colorié\n",
        "            # Trouver les couleurs utilisées par les voisins\n",
        "            couleurs_voisins = set()\n",
        "            for voisin in get_neighbors(sommet, matrice_triangulaire, n):\n",
        "                if couleur_attribuee[voisin] != -1:\n",
        "                    couleurs_voisins.add(couleur_attribuee[voisin])\n",
        "\n",
        "            # Trouver la plus petite couleur disponible\n",
        "            couleur_disponible = 0\n",
        "            while couleur_disponible in couleurs_voisins:\n",
        "                couleur_disponible += 1\n",
        "\n",
        "            # Attribuer la couleur disponible\n",
        "            couleur_attribuee[sommet] = couleur_disponible\n",
        "\n",
        "    nombre_chromatique = max(couleur_attribuee) + 1\n",
        "\n",
        "    end_time = time.time()  # Fin du calcul du temps\n",
        "    execution_time = end_time - start_time  # Temps d'exécution en secondes\n",
        "\n",
        "    return nombre_chromatique, couleur_attribuee, execution_time"
      ]
    },
    {
      "cell_type": "markdown",
      "metadata": {
        "id": "Nz5dlOdB99Qj"
      },
      "source": [
        "### DSATUR"
      ]
    },
    {
      "cell_type": "code",
      "execution_count": null,
      "metadata": {
        "id": "v-SCewhM9-g7"
      },
      "outputs": [],
      "source": [
        "def dsatur(matrice_triangulaire):\n",
        "  start = time.time()\n",
        "  n = len(matrice_triangulaire)\n",
        "  voisins = {i: get_neighbors(i, matrice_triangulaire,n) for i in range (n)}\n",
        "  coloring = [None]*n # affectation initial\n",
        "  ensemble_saturation = [set() for _ in range(n)] #initialisation des ensembles de saturation de chaque noeud\n",
        "  degre = [len(voisins[i]) for i in range(n)] # Use a list, not a set\n",
        "  # tantque on n'a pas fini de colorier otus les noeuds\n",
        "  while any(color is None for color in coloring): # Loop until all nodes are colored\n",
        "    non_colories = [i for i in range(n) if coloring[i] is None]\n",
        "    if not non_colories:\n",
        "          break\n",
        "    chosen = max(non_colories, key=lambda x: (len(ensemble_saturation[x]), degre[x]))\n",
        "    used_colors = {coloring[v] for v in voisins[chosen] if coloring[v] is not None}\n",
        "    color = 0\n",
        "    while color in used_colors:\n",
        "      color += 1\n",
        "    coloring[chosen] = color\n",
        "    for v in voisins[chosen]:\n",
        "        if coloring[v] is None:\n",
        "            ensemble_saturation[v].add(color)\n",
        "  chromatic_number = max(coloring) + 1 if coloring else 0\n",
        "  temps = time.time() - start\n",
        "  return chromatic_number, coloring, temps"
      ]
    },
    {
      "cell_type": "markdown",
      "metadata": {
        "id": "XSrCeQuaBy6Y"
      },
      "source": [
        "### RLF (Recursive Largest First)"
      ]
    },
    {
      "cell_type": "code",
      "execution_count": null,
      "metadata": {
        "id": "_weZOJ4hB64w"
      },
      "outputs": [],
      "source": [
        "from collections import deque\n",
        "import time\n",
        "\n",
        "def rlf(matrice_triangulaire, n):\n",
        "    \"\"\"\n",
        "    Implémente l'heuristique RLF (Recursive Largest First) pour le coloriage de graphes.\n",
        "\n",
        "    Args:\n",
        "        matrice_triangulaire: Matrice de représentation triangulaire du graphe.\n",
        "        n: Nombre de nœuds.\n",
        "\n",
        "    Returns:\n",
        "        (nombre_chromatique, coloration, temps_execution)\n",
        "    \"\"\"\n",
        "    start_time = time.time()\n",
        "\n",
        "    # Précalcul de la liste d'adjacence pour optimiser les accès\n",
        "    adj = [get_neighbors(u, matrice_triangulaire, n) for u in range(n)]\n",
        "\n",
        "    coloring = [None] * n\n",
        "    current_color = 0\n",
        "    uncolored = set(range(n))\n",
        "\n",
        "    while uncolored:\n",
        "        color_class = []\n",
        "        available = list(uncolored)\n",
        "        available_set = set(available)\n",
        "\n",
        "        while available:\n",
        "            # Calcul des degrés dans le sous-graphe courant\n",
        "            degrees = {}\n",
        "            for u in available:\n",
        "                count = 0\n",
        "                for v in adj[u]:\n",
        "                    if v in available_set:\n",
        "                        count += 1\n",
        "                degrees[u] = count\n",
        "\n",
        "            # Sélection du nœud avec le degré maximal\n",
        "            max_degree = max(degrees.values())\n",
        "            candidates = [u for u in available if degrees[u] == max_degree]\n",
        "            chosen = min(candidates)  # Désambiguïsation par indice\n",
        "\n",
        "            color_class.append(chosen)\n",
        "\n",
        "            # Suppression du nœud choisi et de ses voisins\n",
        "            to_remove = {chosen}\n",
        "            to_remove.update(adj[chosen])\n",
        "\n",
        "            available = [u for u in available if u not in to_remove]\n",
        "            available_set = set(available)\n",
        "\n",
        "        # Attribution de la couleur\n",
        "        for u in color_class:\n",
        "            coloring[u] = current_color\n",
        "        uncolored -= set(color_class)\n",
        "        current_color += 1\n",
        "\n",
        "    temps_execution = time.time() - start_time\n",
        "    return current_color, coloring, temps_execution"
      ]
    },
    {
      "cell_type": "markdown",
      "metadata": {
        "id": "r3-a1E4ejkAG"
      },
      "source": [
        "### Incidence Degree Ordering"
      ]
    },
    {
      "cell_type": "code",
      "execution_count": null,
      "metadata": {
        "id": "n4-QM70M-Azh"
      },
      "outputs": [],
      "source": [
        "def incidence_degree_ordering(matrice_triangulaire):\n",
        "        \"\"\"\n",
        "        Incidence Degree Ordering (IDO) Graph Coloring Heuristic.\n",
        "\n",
        "        Args:\n",
        "            adj_matrix: Adjacency matrix of the undirected graph.\n",
        "            N: Number of nodes in the graph.\n",
        "\n",
        "        Returns:\n",
        "            The number of colors used in the coloring.\n",
        "        \"\"\"\n",
        "        # Calculate incidence degrees (number of differently colored neighbors)\n",
        "        start = time.time()\n",
        "        N = len(matrice_triangulaire)\n",
        "        incidence_degrees = np.zeros(N, dtype=int)\n",
        "        colors = [-1] * N\n",
        "        for _ in range(N):  # Iterate N times to color all nodes\n",
        "            # Find the node with the maximum incidence degree among uncolored nodes\n",
        "            max_incidence_node = -1\n",
        "            max_incidence_degree = -1\n",
        "            for node in range(N):\n",
        "                if colors[node] == -1 and incidence_degrees[node] > max_incidence_degree:\n",
        "                    max_incidence_degree = incidence_degrees[node]\n",
        "                    max_incidence_node = node\n",
        "\n",
        "            if max_incidence_node != -1: # if we found a node to color\n",
        "                available_colors = set(range(1, N + 1))\n",
        "                for neighbor in range(0, max_incidence_node):\n",
        "                    if matrice_triangulaire[max_incidence_node][neighbor] == 1 and colors[neighbor] != -1:\n",
        "                        available_colors.discard(colors[neighbor])\n",
        "\n",
        "                if available_colors:\n",
        "                    colors[max_incidence_node] = min(available_colors)\n",
        "                else:\n",
        "                    max_used_color = max(colors) if any(colors) else 0\n",
        "                    colors[max_incidence_node] = max_used_color + 1\n",
        "\n",
        "                # Update incidence degrees of uncolored neighbors\n",
        "                for neighbor in range(0, max_incidence_node):\n",
        "                    if matrice_triangulaire[max_incidence_node][neighbor] == 1 and colors[neighbor] == -1:\n",
        "                        neighbor_colors = set()\n",
        "                        for nn in range(0, neighbor):\n",
        "                            if matrice_triangulaire[neighbor][nn] == 1 and colors[nn] != -1:\n",
        "                                neighbor_colors.add(colors[nn])\n",
        "                        incidence_degrees[neighbor] = len(neighbor_colors)\n",
        "\n",
        "        return len(set(colors)), colors, time.time() - start"
      ]
    },
    {
      "cell_type": "markdown",
      "metadata": {
        "id": "BekTKSlOJBZn"
      },
      "source": [
        "## **Tester les 4 heuristiques par construction sur les benchmarks de DMACS**"
      ]
    },
    {
      "cell_type": "code",
      "execution_count": null,
      "metadata": {
        "colab": {
          "base_uri": "https://localhost:8080/"
        },
        "id": "I2FtTkCCJG9F",
        "outputId": "5709e962-0776-4316-bc0e-b8ecdf97232a"
      },
      "outputs": [
        {
          "output_type": "stream",
          "name": "stdout",
          "text": [
            "\n",
            "\n",
            "Graph:  dsjc125.9  Best:  44\n",
            "Dsature:\n",
            "welsh_powell:\n",
            "Nombre chromatique : 53 Time :  0.011011600494384766\n",
            "incidence degree ordering:\n",
            "Nombre chromatique : 56 Time :  0.0064678192138671875\n",
            "Recursive Largest First\n",
            "Nombre chromatique : 60 Time :  0.05315709114074707\n",
            "\n",
            "\n",
            "Graph:  dsjc125.1  Best:  5\n",
            "Dsature:\n",
            "welsh_powell:\n",
            "Nombre chromatique : 7 Time :  0.008095502853393555\n",
            "incidence degree ordering:\n",
            "Nombre chromatique : 8 Time :  0.005797147750854492\n",
            "Recursive Largest First\n",
            "Nombre chromatique : 9 Time :  0.0068509578704833984\n",
            "\n",
            "\n",
            "Graph:  dsjc250.1  Best:  8\n",
            "Dsature:\n",
            "welsh_powell:\n",
            "Nombre chromatique : 11 Time :  0.012759208679199219\n",
            "incidence degree ordering:\n",
            "Nombre chromatique : 13 Time :  0.021586179733276367\n",
            "Recursive Largest First\n",
            "Nombre chromatique : 13 Time :  0.03424978256225586\n",
            "\n",
            "\n",
            "Graph:  dsjc250.9  Best:  72\n",
            "Dsature:\n",
            "welsh_powell:\n",
            "Nombre chromatique : 93 Time :  0.013735771179199219\n",
            "incidence degree ordering:\n",
            "Nombre chromatique : 99 Time :  0.013439178466796875\n",
            "Recursive Largest First\n",
            "Nombre chromatique : 121 Time :  0.20512986183166504\n",
            "\n",
            "\n",
            "Graph:  r250.5  Best:  66/65\n",
            "Dsature:\n",
            "welsh_powell:\n",
            "Nombre chromatique : 70 Time :  0.012648582458496094\n",
            "incidence degree ordering:\n",
            "Nombre chromatique : 79 Time :  0.011938095092773438\n",
            "Recursive Largest First\n",
            "Nombre chromatique : 77 Time :  0.08051681518554688\n",
            "\n",
            "\n",
            "Graph:  r250.1  Best:  8\n",
            "Dsature:\n",
            "welsh_powell:\n",
            "Nombre chromatique : 8 Time :  0.006278514862060547\n",
            "incidence degree ordering:\n",
            "Nombre chromatique : 9 Time :  0.010526180267333984\n",
            "Recursive Largest First\n",
            "Nombre chromatique : 9 Time :  0.010239362716674805\n",
            "\n",
            "\n",
            "Graph:  dsjc250.5  Best:  28/?\n",
            "Dsature:\n",
            "welsh_powell:\n",
            "Nombre chromatique : 41 Time :  0.013143301010131836\n",
            "incidence degree ordering:\n",
            "Nombre chromatique : 43 Time :  0.01278233528137207\n",
            "Recursive Largest First\n",
            "Nombre chromatique : 48 Time :  0.09462308883666992\n",
            "\n",
            "\n",
            "Graph:  flat300_28_0  Best:  28/28\n",
            "Dsature:\n",
            "welsh_powell:\n",
            "Nombre chromatique : 45 Time :  0.018569231033325195\n",
            "incidence degree ordering:\n",
            "Nombre chromatique : 46 Time :  0.018465280532836914\n",
            "Recursive Largest First\n",
            "Nombre chromatique : 54 Time :  0.1416950225830078\n",
            "\n",
            "\n",
            "Graph:  le450_25c  Best:  25/25\n",
            "Dsature:\n",
            "welsh_powell:\n",
            "Nombre chromatique : 29 Time :  0.029643774032592773\n",
            "incidence degree ordering:\n",
            "Nombre chromatique : 37 Time :  0.037792205810546875\n",
            "Recursive Largest First\n",
            "Nombre chromatique : 35 Time :  0.12846899032592773\n"
          ]
        }
      ],
      "source": [
        "# getting the graph from the website\n",
        "graphs_best = {\n",
        "  \"dsjc125.9\":\"44\",\n",
        "  \"dsjc125.1\":\"5\",\n",
        "  \"dsjc250.1\":\"8\",\n",
        "  \"dsjc250.9\":\"72\",\n",
        "  \"r250.5\":\"66/65\",\n",
        "  \"r250.1\":\"8\",\n",
        "  \"dsjc250.5\":\"28/?\",\n",
        "  \"flat300_28_0\":\"28/28\",\n",
        "  \"le450_25c\":\"25/25\"\n",
        "}\n",
        "for graph, best in graphs_best.items():\n",
        "  matx, n = lire_graphe_triangulaire(f\"https://cedric.cnam.fr/~porumbed/graphs/{graph}.col\",1)\n",
        "  print(\"\\n\\nGraph: \", graph, \" Best: \", best)\n",
        "  print(\"Dsature:\")\n",
        "  #chromatic_number, coloring, temps = dsatur(matx)\n",
        "  #print(\"Nombre chromatique :\", chromatic_number, \"Time : \", temps)\n",
        "\n",
        "  print(\"welsh_powell:\")\n",
        "  chromatic_number, coloring, temps = welsh_powell(matx)\n",
        "  print(\"Nombre chromatique :\", chromatic_number, \"Time : \", temps)\n",
        "\n",
        "  print(\"incidence degree ordering:\")\n",
        "  chromatic_number, coloring, temps = incidence_degree_ordering(matx)\n",
        "  print(\"Nombre chromatique :\", chromatic_number, \"Time : \", temps)\n",
        "\n",
        "\n",
        "  print(\"Recursive Largest First\")\n",
        "  chromatic_number, coloring, temps = rlf(matx,n)\n",
        "  print(\"Nombre chromatique :\", chromatic_number, \"Time : \", temps)"
      ]
    },
    {
      "cell_type": "markdown",
      "metadata": {
        "id": "CotSwA_dcqlG"
      },
      "source": [
        "### Resources\n",
        "https://www.geeksforgeeks.org/dsatur-algorithm-for-graph-coloring/"
      ]
    },
    {
      "cell_type": "markdown",
      "metadata": {
        "id": "p19qp8Td6cx-"
      },
      "source": [
        "## **Branch and Bound**"
      ]
    },
    {
      "cell_type": "code",
      "execution_count": null,
      "metadata": {
        "id": "xmTb5hwe61W3"
      },
      "outputs": [],
      "source": [
        "def greedy_coloring(matrice_triangulaire):\n",
        "    \"\"\"\n",
        "    Applique un algorithme glouton pour obtenir une solution initiale de coloration.\n",
        "    Cette solution sert de borne supérieure initiale (upper bound) pour le branch and bound.\n",
        "\n",
        "    :param matrice_triangulaire: La matrice triangulaire inférieure représentant le graphe.\n",
        "    :return: Tuple (nombre de couleurs utilisées, liste de coloration)\n",
        "    \"\"\"\n",
        "    n = len(matrice_triangulaire)\n",
        "    colors = [None] * n\n",
        "    for vertex in range(n):\n",
        "        forbidden = set()\n",
        "        for j in range(n):\n",
        "            if colors[j] is not None:\n",
        "                if vertex > j and matrice_triangulaire[vertex][j] == 1:\n",
        "                    forbidden.add(colors[j])\n",
        "                elif vertex < j and matrice_triangulaire[j][vertex] == 1:\n",
        "                    forbidden.add(colors[j])\n",
        "        color = 1\n",
        "        while color in forbidden:\n",
        "            color += 1\n",
        "        colors[vertex] = color\n",
        "    return len(set(colors)), colors"
      ]
    },
    {
      "cell_type": "code",
      "execution_count": null,
      "metadata": {
        "id": "UWBdj59p6__j"
      },
      "outputs": [],
      "source": [
        "def build_neighbor_list(matrice_triangulaire):\n",
        "    \"\"\"\n",
        "    Pré-calcule la liste des voisins pour chaque sommet à partir de la matrice triangulaire.\n",
        "\n",
        "    :param matrice_triangulaire: Matrice triangulaire inférieure représentant le graphe.\n",
        "    :return: Liste de listes, où chaque sous-liste contient les indices des voisins du sommet.\n",
        "    \"\"\"\n",
        "    n = len(matrice_triangulaire)\n",
        "    neighbors = [[] for _ in range(n)]\n",
        "    for i in range(n):\n",
        "        for j in range(i):\n",
        "            if matrice_triangulaire[i][j] == 1:\n",
        "                neighbors[i].append(j)\n",
        "                neighbors[j].append(i)\n",
        "    return neighbors"
      ]
    },
    {
      "cell_type": "code",
      "execution_count": null,
      "metadata": {
        "id": "rFIFuEQY7C1-"
      },
      "outputs": [],
      "source": [
        "def select_next_vertex_dsatur(assignment, uncolored, neighbors):\n",
        "    \"\"\"\n",
        "    Sélectionne dynamiquement le prochain sommet à colorier selon la règle DSATUR.\n",
        "    Le sommet choisi est celui qui a la plus grande \"saturation\" (nombre de couleurs distinctes parmi ses voisins coloriés)\n",
        "    et, en cas d'égalité, celui avec le degré le plus élevé.\n",
        "\n",
        "    :param assignment: Liste des couleurs assignées (None si non colorié)\n",
        "    :param uncolored: Ensemble des indices de sommets non colorés\n",
        "    :param neighbors: Liste pré-calculée des voisins pour chaque sommet\n",
        "    :return: L'indice du sommet à colorier ensuite\n",
        "    \"\"\"\n",
        "    best_vertex = None\n",
        "    best_sat = -1\n",
        "    best_degree = -1\n",
        "    for v in uncolored:\n",
        "        sat = len({assignment[u] for u in neighbors[v] if assignment[u] is not None})\n",
        "        degree = len(neighbors[v])\n",
        "        if sat > best_sat or (sat == best_sat and degree > best_degree):\n",
        "            best_sat = sat\n",
        "            best_degree = degree\n",
        "            best_vertex = v\n",
        "    return best_vertex"
      ]
    },
    {
      "cell_type": "code",
      "execution_count": null,
      "metadata": {
        "id": "L_brPvbI7FkI"
      },
      "outputs": [],
      "source": [
        "def branch_and_bound_coloring_dsatur(matrice_triangulaire):\n",
        "    \"\"\"\n",
        "    Implémente le branch and bound pour la coloration de graphe en utilisant DSATUR pour le choix du prochain sommet.\n",
        "\n",
        "    Optimisations appliquées :\n",
        "      - Utilisation d'une heuristique gloutonne pour obtenir une solution initiale (borne supérieure).\n",
        "      - Pré-calcul des voisins pour accélérer la vérification des conflits.\n",
        "      - Sélection dynamique du prochain sommet à colorier par DSATUR.\n",
        "      - Branching sur les couleurs déjà utilisées + une nouvelle couleur.\n",
        "\n",
        "    Chaque état est représenté par :\n",
        "      - assignment : liste des couleurs assignées (None si non colorié)\n",
        "      - uncolored : ensemble des indices des sommets non colorés\n",
        "      - num_colors_used : nombre de couleurs utilisées jusqu'ici\n",
        "\n",
        "    :return: Tuple (nombre chromatique optimal, solution de coloration, temps d'exécution)\n",
        "    \"\"\"\n",
        "    start_time = time.time()\n",
        "    n = len(matrice_triangulaire)\n",
        "\n",
        "    # Obtenir une solution initiale par heuristique gloutonne\n",
        "    initial_color_count, initial_solution = greedy_coloring(matrice_triangulaire)\n",
        "    #print(f\"Initial heuristic solution: {initial_solution} using {initial_color_count} colors.\")\n",
        "\n",
        "    best_color_count = initial_color_count\n",
        "    best_solution = initial_solution.copy()\n",
        "\n",
        "    # Pré-calculer la liste des voisins\n",
        "    neighbors = build_neighbor_list(matrice_triangulaire)\n",
        "\n",
        "    # État initial : aucun sommet colorié\n",
        "    initial_assignment = [None] * n\n",
        "    uncolored = set(range(n))\n",
        "    initial_state = (initial_assignment, uncolored, 0)\n",
        "\n",
        "    stack = [initial_state]\n",
        "    nodes_processed = 0  # Compteur de noeuds explorés\n",
        "\n",
        "    while stack:\n",
        "        nodes_processed += 1\n",
        "        assignment, uncolored, num_colors_used = stack.pop()\n",
        "\n",
        "        # Affichage périodique de la progression\n",
        "        #if nodes_processed % 1000 == 0:\n",
        "            #print(f\"Nodes processed: {nodes_processed}, Current best: {best_color_count}, Stack size: {len(stack)}\")\n",
        "\n",
        "        if num_colors_used >= best_color_count:\n",
        "            continue\n",
        "\n",
        "        # Si tous les sommets sont coloriés, mise à jour de la meilleure solution.\n",
        "        if not uncolored:\n",
        "            used_colors = len({color for color in assignment if color is not None})\n",
        "            #print(f\"Complete solution found with {used_colors} colors: {assignment}\")\n",
        "            if used_colors < best_color_count:\n",
        "                best_color_count = used_colors\n",
        "                best_solution = assignment.copy()\n",
        "                #print(f\"New best solution with {best_color_count} colors!\")\n",
        "            continue\n",
        "\n",
        "        # Sélectionner le prochain sommet à colorier par DSATUR\n",
        "        v = select_next_vertex_dsatur(assignment, uncolored, neighbors)\n",
        "        forbidden = {assignment[u] for u in neighbors[v] if assignment[u] is not None}\n",
        "\n",
        "        # Déterminer les couleurs disponibles: celles déjà utilisées non interdites et une nouvelle couleur.\n",
        "        available_colors = [color for color in range(1, num_colors_used + 1) if color not in forbidden]\n",
        "        available_colors.append(num_colors_used + 1)\n",
        "\n",
        "        for color in available_colors:\n",
        "            new_assignment = assignment.copy()\n",
        "            new_assignment[v] = color\n",
        "            new_num_colors_used = max(num_colors_used, color)\n",
        "\n",
        "            # Pruning: Élagage des branches qui ne peuvent pas améliorer la solution.\n",
        "            if new_num_colors_used >= best_color_count:\n",
        "                #print(f\"Elagage de la branche dans le noeud {v} avec la couleur {color} (utilise: {new_num_colors_used} >= meilleur: {best_color_count})\")\n",
        "                continue\n",
        "\n",
        "            new_uncolored = uncolored.copy()\n",
        "            new_uncolored.remove(v)\n",
        "            stack.append((new_assignment, new_uncolored, new_num_colors_used))\n",
        "\n",
        "    execution_time = time.time() - start_time\n",
        "    #print(f\"Nombre total des noeuds: {nodes_processed}\")\n",
        "    return best_color_count, best_solution, execution_time"
      ]
    },
    {
      "cell_type": "markdown",
      "metadata": {
        "id": "OQ_mrz7x-KOg"
      },
      "source": [
        "## **Comparaison des heuristiques**\n",
        "en terme du temps d'execution et performance (bar graph)"
      ]
    },
    {
      "cell_type": "code",
      "execution_count": null,
      "metadata": {
        "id": "4iAba_Uc-P00"
      },
      "outputs": [],
      "source": [
        "# Draw bar graph for each test graph to compare vertices and edges\n",
        "def plot_vertices_edges(graph_info):\n",
        "\n",
        "    graphs = list(graph_info.keys())\n",
        "    vertices = [graph_info[graph][0] for graph in graphs]\n",
        "    edges = [graph_info[graph][1] for graph in graphs]\n",
        "\n",
        "    x = np.arange(len(graphs))\n",
        "    width = 0.35\n",
        "\n",
        "    fig, ax = plt.subplots(figsize=(12, 6))\n",
        "\n",
        "    bars1 = ax.bar(x - width/2, vertices, width, label=\"Number of Vertices\")\n",
        "    bars2 = ax.bar(x + width/2, edges, width, label=\"Number of Edges\")\n",
        "\n",
        "    # Add numbers on top of bars\n",
        "    for bars in [bars1, bars2]:\n",
        "        for bar in bars:\n",
        "            height = bar.get_height()\n",
        "            ax.text(bar.get_x() + bar.get_width()/2, height, f\"{int(height)}\", ha=\"center\", va=\"bottom\", fontsize=10)\n",
        "\n",
        "    ax.set_xlabel(\"Graph Test Files\")\n",
        "    ax.set_ylabel(\"Count\")\n",
        "    ax.set_title(\"Number of Vertices and Edges in Graphs\")\n",
        "    ax.set_xticks(x)\n",
        "    ax.set_xticklabels(graphs, rotation=45, ha=\"right\")\n",
        "    ax.legend()\n",
        "\n",
        "    plt.show()"
      ]
    },
    {
      "cell_type": "code",
      "execution_count": null,
      "metadata": {
        "id": "iIwwK3ZEgfra"
      },
      "outputs": [],
      "source": [
        "# Function to plot execution time comparisons\n",
        "def plot_time_comparisons(data):\n",
        "    graphs = list(data.keys())\n",
        "    methods = [\"Dsatur\", \"Welsh-Powell\", \"Incidence Degree Ordering\", \"Recursive Largest First\"]\n",
        "\n",
        "    x = np.arange(len(graphs))\n",
        "    width = 0.2\n",
        "\n",
        "    fig, ax = plt.subplots(figsize=(12, 6))\n",
        "\n",
        "    for i, method in enumerate(methods):\n",
        "        values = [data[graph][i] for graph in graphs]\n",
        "        bars = ax.bar(x + i * width, values, width, label=method)\n",
        "\n",
        "    ax.set_xlabel(\"Graph Test Files\")\n",
        "    ax.set_ylabel(\"Execution Time (s)\")\n",
        "    ax.set_title(\"Execution Time Comparison\")\n",
        "    ax.set_xticks(x + width)\n",
        "    ax.set_xticklabels(graphs, rotation=45, ha=\"right\")\n",
        "    ax.legend()\n",
        "\n",
        "    plt.show()"
      ]
    },
    {
      "cell_type": "code",
      "execution_count": null,
      "metadata": {
        "id": "aIv2_aMrc7ms"
      },
      "outputs": [],
      "source": [
        "# Function to plot chromatic number comparisons\n",
        "def plot_chromatic_comparisons(data):\n",
        "    graphs = list(data.keys())\n",
        "    methods = [\"Dsatur\", \"Welsh-Powell\", \"Incidence Degree Ordering\", \"Recursive Largest First\"]\n",
        "\n",
        "    x = np.arange(len(graphs))\n",
        "    width = 0.2\n",
        "\n",
        "    fig, ax = plt.subplots(figsize=(12, 6))\n",
        "\n",
        "    for i, method in enumerate(methods):\n",
        "        values = [data[graph][i] for graph in graphs]\n",
        "        bars = ax.bar(x + i * width, values, width, label=method)\n",
        "\n",
        "        # Add exact chromatic number on top of each bar\n",
        "        for bar in bars:\n",
        "            height = bar.get_height()\n",
        "            ax.text(bar.get_x() + bar.get_width() / 2, height, f\"{int(height)}\",\n",
        "                    ha=\"center\", va=\"bottom\", fontsize=9)\n",
        "\n",
        "    ax.set_xlabel(\"Graph Test Files\")\n",
        "    ax.set_ylabel(\"Chromatic Number\")\n",
        "    ax.set_title(\"Chromatic Number Comparison\")\n",
        "    ax.set_xticks(x + width)\n",
        "    ax.set_xticklabels(graphs, rotation=45, ha=\"right\")\n",
        "    ax.legend()\n",
        "\n",
        "    plt.show()"
      ]
    },
    {
      "cell_type": "code",
      "execution_count": null,
      "metadata": {
        "colab": {
          "base_uri": "https://localhost:8080/"
        },
        "id": "K6paf6NAcUMl",
        "outputId": "50a21858-30a5-4209-85bd-b5e8c735a68d"
      },
      "outputs": [
        {
          "output_type": "display_data",
          "data": {
            "text/plain": [
              "<Figure size 1200x600 with 1 Axes>"
            ],
            "image/png": "[encoded data removed]"
          },
          "metadata": {}
        },
        {
          "output_type": "display_data",
          "data": {
            "text/plain": [
              "<Figure size 1200x600 with 1 Axes>"
            ],
            "image/png": "[encoded data removed]"
          },
          "metadata": {}
        },
        {
          "output_type": "display_data",
          "data": {
            "text/plain": [
              "<Figure size 1200x600 with 1 Axes>"
            ],
            "image/png": "[encoded data removed]"
          },
          "metadata": {}
        }
      ],
      "source": [
        "graphs_best = {\n",
        "    \"dsjc125.9\": \"44\",\n",
        "    \"dsjc125.1\": \"5\",\n",
        "    \"dsjc250.1\": \"8\",\n",
        "    \"dsjc250.9\": \"72\",\n",
        "    \"r250.5\": \"66/65\",\n",
        "    \"r250.1\": \"8\",\n",
        "    \"dsjc250.5\": \"28/?\",\n",
        "    \"flat300_28_0\": \"28/28\",\n",
        "    \"le450_25c\": \"25/25\"\n",
        "}\n",
        "\n",
        "graph_info = {}\n",
        "results_time = {}\n",
        "results_chromatic = {}\n",
        "\n",
        "methods = {\n",
        "    \"Dsatur\": dsatur,\n",
        "    \"Welsh-Powell\": welsh_powell,\n",
        "    \"Incidence Degree Ordering\": incidence_degree_ordering,\n",
        "    \"Recursive Largest First\": rlf\n",
        "}\n",
        "\n",
        "for graph in graphs_best.keys():\n",
        "    matx, n = lire_graphe_triangulaire(f\"https://cedric.cnam.fr/~porumbed/graphs/{graph}.col\",1)\n",
        "    num_edges = sum(sum(row) for row in matx) // 2  # Count edges\n",
        "    graph_info[graph] = (n, num_edges)\n",
        "\n",
        "    results_time[graph] = []\n",
        "    results_chromatic[graph] = []\n",
        "\n",
        "    for name, method in methods.items():\n",
        "        if name == \"Recursive Largest First\":\n",
        "            chromatic_number, _, temps = method(matx, n)\n",
        "        else:\n",
        "            chromatic_number, _, temps = method(matx)\n",
        "\n",
        "        results_time[graph].append(temps)\n",
        "        results_chromatic[graph].append(chromatic_number)\n",
        "\n",
        "# Plot results\n",
        "plot_vertices_edges(graph_info)\n",
        "plot_time_comparisons(results_time)\n",
        "plot_chromatic_comparisons(results_chromatic)\n"
      ]
    },
    {
      "cell_type": "markdown",
      "metadata": {
        "id": "i-sR5vLK-7yg"
      },
      "source": [
        "## **Comparaison des heuristiques avec branch and bound**\n",
        "en terme du temps d'execution et performance (bar graph)\n",
        "\n",
        "***On a utilisé les graphes réduits du TP précédent***"
      ]
    },
    {
      "cell_type": "code",
      "execution_count": null,
      "metadata": {
        "id": "3wGyEcKv-7yg"
      },
      "outputs": [],
      "source": [
        "# Draw bar graph for each test graph to compare vertices and edges\n",
        "def plot_vertices_edges(graph_info):\n",
        "\n",
        "    graphs = list(graph_info.keys())\n",
        "    vertices = [graph_info[graph][0] for graph in graphs]\n",
        "    edges = [graph_info[graph][1] for graph in graphs]\n",
        "\n",
        "    x = np.arange(len(graphs))\n",
        "    width = 0.35\n",
        "\n",
        "    fig, ax = plt.subplots(figsize=(12, 6))\n",
        "\n",
        "    bars1 = ax.bar(x - width/2, vertices, width, label=\"Number of Vertices\")\n",
        "    bars2 = ax.bar(x + width/2, edges, width, label=\"Number of Edges\")\n",
        "\n",
        "    # Add numbers on top of bars\n",
        "    for bars in [bars1, bars2]:\n",
        "        for bar in bars:\n",
        "            height = bar.get_height()\n",
        "            ax.text(bar.get_x() + bar.get_width()/2, height, f\"{int(height)}\", ha=\"center\", va=\"bottom\", fontsize=10)\n",
        "\n",
        "    ax.set_xlabel(\"Graph Test Files\")\n",
        "    ax.set_ylabel(\"Count\")\n",
        "    ax.set_title(\"Number of Vertices and Edges in Graphs\")\n",
        "    ax.set_xticks(x)\n",
        "    ax.set_xticklabels(graphs, rotation=45, ha=\"right\")\n",
        "    ax.legend()\n",
        "\n",
        "    plt.show()"
      ]
    },
    {
      "cell_type": "code",
      "execution_count": null,
      "metadata": {
        "id": "MTfARl7l-7yh"
      },
      "outputs": [],
      "source": [
        "def plot_time_comparisons(data):\n",
        "    graphs = list(data.keys())\n",
        "    methods = [\"Dsatur\", \"Welsh-Powell\", \"Incidence Degree Ordering\", \"Recursive Largest First\", \"Branch and Bound\"]\n",
        "\n",
        "    x = np.arange(len(graphs))\n",
        "    width = 0.15\n",
        "\n",
        "    fig, ax = plt.subplots(figsize=(12, 6))\n",
        "\n",
        "    for i, method in enumerate(methods):\n",
        "        values = [data[graph][i] if i < len(data[graph]) else 0 for graph in graphs]\n",
        "        bars = ax.bar(x + i * width, values, width, label=method)\n",
        "\n",
        "        # Add execution time labels on top of each bar\n",
        "        for bar in bars:\n",
        "            height = bar.get_height()\n",
        "            ax.text(bar.get_x() + bar.get_width() / 2, height, f\"{height:.2f}\",\n",
        "                    ha=\"center\", va=\"bottom\", fontsize=9)\n",
        "\n",
        "    ax.set_xlabel(\"Graph Test Files\")\n",
        "    ax.set_ylabel(\"Execution Time (s)\")\n",
        "    ax.set_title(\"Execution Time Comparison\")\n",
        "\n",
        "    ax.set_xticks(x + width * (len(methods) / 2 - 0.5))\n",
        "    ax.set_xticklabels(graphs, rotation=45, ha=\"right\")\n",
        "\n",
        "    ax.legend()\n",
        "    plt.tight_layout()\n",
        "    plt.show()"
      ]
    },
    {
      "cell_type": "code",
      "execution_count": null,
      "metadata": {
        "id": "LdRTldWR-7yh"
      },
      "outputs": [],
      "source": [
        "# Function to plot chromatic number comparisons\n",
        "def plot_chromatic_comparisons(data):\n",
        "    graphs = list(data.keys())\n",
        "    methods = [\"Dsatur\", \"Welsh-Powell\", \"Incidence Degree Ordering\", \"Recursive Largest First\",\"Branch and Bound\"]\n",
        "\n",
        "    x = np.arange(len(graphs))\n",
        "    width = 0.15\n",
        "\n",
        "    fig, ax = plt.subplots(figsize=(12, 6))\n",
        "\n",
        "    for i, method in enumerate(methods):\n",
        "        values = [data[graph][i] for graph in graphs]\n",
        "        bars = ax.bar(x + i * width, values, width, label=method)\n",
        "\n",
        "        # Add exact chromatic number on top of each bar\n",
        "        for bar in bars:\n",
        "            height = bar.get_height()\n",
        "            ax.text(bar.get_x() + bar.get_width() / 2, height, f\"{int(height)}\",\n",
        "                    ha=\"center\", va=\"bottom\", fontsize=9)\n",
        "\n",
        "    ax.set_xlabel(\"Graph Test Files\")\n",
        "    ax.set_ylabel(\"Chromatic Number\")\n",
        "    ax.set_title(\"Chromatic Number Comparison\")\n",
        "    ax.set_xticks(x + width)\n",
        "    ax.set_xticklabels(graphs, rotation=45, ha=\"right\")\n",
        "    ax.legend()\n",
        "\n",
        "    plt.show()"
      ]
    },
    {
      "cell_type": "code",
      "execution_count": null,
      "metadata": {
        "colab": {
          "base_uri": "https://localhost:8080/",
          "height": 332
        },
        "id": "42wWgfT0-7yh",
        "outputId": "216f2eeb-def2-4450-9c5e-464a937a0b0e"
      },
      "outputs": [
        {
          "output_type": "error",
          "ename": "FileNotFoundError",
          "evalue": "[Errno 2] No such file or directory: 'A.col'",
          "traceback": [
            "\u001b[0;31m---------------------------------------------------------------------------\u001b[0m",
            "\u001b[0;31mFileNotFoundError\u001b[0m                         Traceback (most recent call last)",
            "\u001b[0;32m<ipython-input-26-810d5de892ed>\u001b[0m in \u001b[0;36m<cell line: 0>\u001b[0;34m()\u001b[0m\n\u001b[1;32m     20\u001b[0m \u001b[0;34m\u001b[0m\u001b[0m\n\u001b[1;32m     21\u001b[0m \u001b[0;32mfor\u001b[0m \u001b[0mgraph\u001b[0m \u001b[0;32min\u001b[0m \u001b[0mgraphs_best\u001b[0m\u001b[0;34m.\u001b[0m\u001b[0mkeys\u001b[0m\u001b[0;34m(\u001b[0m\u001b[0;34m)\u001b[0m\u001b[0;34m:\u001b[0m\u001b[0;34m\u001b[0m\u001b[0;34m\u001b[0m\u001b[0m\n\u001b[0;32m---> 22\u001b[0;31m     \u001b[0mmatx\u001b[0m\u001b[0;34m,\u001b[0m \u001b[0mn\u001b[0m \u001b[0;34m=\u001b[0m \u001b[0mlire_graphe_triangulaire\u001b[0m\u001b[0;34m(\u001b[0m\u001b[0mgraph\u001b[0m\u001b[0;34m,\u001b[0m\u001b[0;36m0\u001b[0m\u001b[0;34m)\u001b[0m\u001b[0;34m\u001b[0m\u001b[0;34m\u001b[0m\u001b[0m\n\u001b[0m\u001b[1;32m     23\u001b[0m     \u001b[0mnum_edges\u001b[0m \u001b[0;34m=\u001b[0m \u001b[0msum\u001b[0m\u001b[0;34m(\u001b[0m\u001b[0msum\u001b[0m\u001b[0;34m(\u001b[0m\u001b[0mrow\u001b[0m\u001b[0;34m)\u001b[0m \u001b[0;32mfor\u001b[0m \u001b[0mrow\u001b[0m \u001b[0;32min\u001b[0m \u001b[0mmatx\u001b[0m\u001b[0;34m)\u001b[0m \u001b[0;34m//\u001b[0m \u001b[0;36m2\u001b[0m  \u001b[0;31m# Count edges\u001b[0m\u001b[0;34m\u001b[0m\u001b[0;34m\u001b[0m\u001b[0m\n\u001b[1;32m     24\u001b[0m     \u001b[0mgraph_info\u001b[0m\u001b[0;34m[\u001b[0m\u001b[0mgraph\u001b[0m\u001b[0;34m]\u001b[0m \u001b[0;34m=\u001b[0m \u001b[0;34m(\u001b[0m\u001b[0mn\u001b[0m\u001b[0;34m,\u001b[0m \u001b[0mnum_edges\u001b[0m\u001b[0;34m)\u001b[0m\u001b[0;34m\u001b[0m\u001b[0;34m\u001b[0m\u001b[0m\n",
            "\u001b[0;32m<ipython-input-7-e352008f0b14>\u001b[0m in \u001b[0;36mlire_graphe_triangulaire\u001b[0;34m(url_fichier, is_url)\u001b[0m\n\u001b[1;32m     13\u001b[0m       \u001b[0mlignes\u001b[0m \u001b[0;34m=\u001b[0m \u001b[0mtext\u001b[0m\u001b[0;34m.\u001b[0m\u001b[0msplit\u001b[0m\u001b[0;34m(\u001b[0m\u001b[0;34m'\\n'\u001b[0m\u001b[0;34m)\u001b[0m\u001b[0;34m\u001b[0m\u001b[0;34m\u001b[0m\u001b[0m\n\u001b[1;32m     14\u001b[0m     \u001b[0;32melse\u001b[0m\u001b[0;34m:\u001b[0m\u001b[0;34m\u001b[0m\u001b[0;34m\u001b[0m\u001b[0m\n\u001b[0;32m---> 15\u001b[0;31m       \u001b[0;32mwith\u001b[0m \u001b[0mopen\u001b[0m\u001b[0;34m(\u001b[0m\u001b[0murl_fichier\u001b[0m\u001b[0;34m,\u001b[0m \u001b[0;34m'r'\u001b[0m\u001b[0;34m)\u001b[0m \u001b[0;32mas\u001b[0m \u001b[0mf\u001b[0m\u001b[0;34m:\u001b[0m\u001b[0;34m\u001b[0m\u001b[0;34m\u001b[0m\u001b[0m\n\u001b[0m\u001b[1;32m     16\u001b[0m         \u001b[0mlignes\u001b[0m \u001b[0;34m=\u001b[0m \u001b[0mf\u001b[0m\u001b[0;34m.\u001b[0m\u001b[0mreadlines\u001b[0m\u001b[0;34m(\u001b[0m\u001b[0;34m)\u001b[0m\u001b[0;34m\u001b[0m\u001b[0;34m\u001b[0m\u001b[0m\n\u001b[1;32m     17\u001b[0m \u001b[0;34m\u001b[0m\u001b[0m\n",
            "\u001b[0;31mFileNotFoundError\u001b[0m: [Errno 2] No such file or directory: 'A.col'"
          ]
        }
      ],
      "source": [
        "graphs_best = {\n",
        "  \"A.col\":\"3\",\n",
        "  \"B.col\":\"5\",\n",
        "  \"C.col\":\"5\",\n",
        "  \"D.col\":\"6\",\n",
        "}\n",
        "\n",
        "\n",
        "graph_info = {}\n",
        "results_time = {}\n",
        "results_chromatic = {}\n",
        "\n",
        "methods = {\n",
        "    \"Dsatur\": dsatur,\n",
        "    \"Welsh-Powell\": welsh_powell,\n",
        "    \"Incidence Degree Ordering\": incidence_degree_ordering,\n",
        "    \"Recursive Largest First\": rlf,\n",
        "    \"Branch and bound\" : branch_and_bound_coloring_dsatur\n",
        "}\n",
        "\n",
        "for graph in graphs_best.keys():\n",
        "    matx, n = lire_graphe_triangulaire(graph,0)\n",
        "    num_edges = sum(sum(row) for row in matx) // 2  # Count edges\n",
        "    graph_info[graph] = (n, num_edges)\n",
        "\n",
        "    results_time[graph] = []\n",
        "    results_chromatic[graph] = []\n",
        "\n",
        "    for name, method in methods.items():\n",
        "        if name == \"Recursive Largest First\":\n",
        "            chromatic_number, _, temps = method(matx, n)\n",
        "        else:\n",
        "            chromatic_number, _, temps = method(matx)\n",
        "\n",
        "        results_time[graph].append(temps)\n",
        "        results_chromatic[graph].append(chromatic_number)\n",
        "\n",
        "# Plot results\n",
        "plot_vertices_edges(graph_info)\n",
        "plot_time_comparisons(results_time)\n",
        "plot_chromatic_comparisons(results_chromatic)"
      ]
    },
    {
      "cell_type": "markdown",
      "metadata": {
        "id": "O8HQ7VDD-W-r"
      },
      "source": [
        "## **Classification des graphes et affectation d'une heuristique selon le type de classe**\n"
      ]
    },
    {
      "cell_type": "markdown",
      "metadata": {
        "id": "xJC2a_QLSegK"
      },
      "source": [
        "### 1. Graphe Bipartie"
      ]
    },
    {
      "cell_type": "code",
      "execution_count": null,
      "metadata": {
        "collapsed": true,
        "id": "4E-Cj9ib-dpQ"
      },
      "outputs": [],
      "source": [
        "from collections import deque\n",
        "\n",
        "def is_bipartite(matrice_triangulaire, n):\n",
        "    \"\"\"\n",
        "    Vérifie si le graphe est biparti en utilisant un BFS et une coloration alternée.\n",
        "\n",
        "    Args:\n",
        "        matrice_triangulaire: Matrice de représentation du graphe.\n",
        "        n: Nombre de sommets dans le graphe.\n",
        "\n",
        "    Returns:\n",
        "        True si le graphe est biparti, False sinon.\n",
        "    \"\"\"\n",
        "    color = [-1] * n  # -1 = non coloré, 0 et 1 sont les deux couleurs\n",
        "\n",
        "    for start in range(n):\n",
        "        if color[start] == -1:\n",
        "            # Démarrer un BFS pour ce composant connexe\n",
        "            queue = deque()\n",
        "            queue.append(start)\n",
        "            color[start] = 0\n",
        "\n",
        "            while queue:\n",
        "                current = queue.popleft()\n",
        "\n",
        "                # Récupérer tous les voisins\n",
        "                neighbors = get_neighbors(current, matrice_triangulaire, n)\n",
        "\n",
        "                for neighbor in neighbors:\n",
        "                    if color[neighbor] == -1:\n",
        "                        # Colorier avec la couleur opposée\n",
        "                        color[neighbor] = 1 - color[current]\n",
        "                        queue.append(neighbor)\n",
        "                    elif color[neighbor] == color[current]:\n",
        "                        # Conflit de coloration trouvé\n",
        "                        return False\n",
        "    return True"
      ]
    },
    {
      "cell_type": "code",
      "execution_count": null,
      "metadata": {
        "id": "1aOs95E7VHLF"
      },
      "outputs": [],
      "source": [
        "# Exemple d'utilisation\n",
        "url = \"https://cedric.cnam.fr/~porumbed/graphs/dsjc250.5.col\"\n",
        "matrice, n = lire_graphe_triangulaire(url)\n",
        "print(\"Le graphe est biparti ?\", is_bipartite(matrice, n))"
      ]
    },
    {
      "cell_type": "markdown",
      "metadata": {
        "id": "TqZM1CY6Rfql"
      },
      "source": [
        "### 2. Graphe Planaire"
      ]
    },
    {
      "cell_type": "code",
      "execution_count": null,
      "metadata": {
        "id": "13f9t672SRUI"
      },
      "outputs": [],
      "source": [
        "import networkx as nx\n",
        "\n",
        "def is_planar(matrice_triangulaire, n):\n",
        "    \"\"\"\n",
        "    Vérifie si le graphe est planaire en utilisant NetworkX.\n",
        "\n",
        "    Args:\n",
        "        matrice_triangulaire: Matrice triangulaire du graphe.\n",
        "        n: Nombre de nœuds.\n",
        "\n",
        "    Returns:\n",
        "        True si le graphe est planaire, False sinon.\n",
        "    \"\"\"\n",
        "    G = nx.Graph()\n",
        "    for node in range(n):\n",
        "        neighbors = get_neighbors(node, matrice_triangulaire, n)\n",
        "        for neighbor in neighbors:\n",
        "            G.add_edge(node, neighbor)\n",
        "    return nx.is_planar(G)"
      ]
    },
    {
      "cell_type": "code",
      "execution_count": null,
      "metadata": {
        "id": "Vqvrg9vUW-fF"
      },
      "outputs": [],
      "source": [
        "url = \"https://cedric.cnam.fr/~porumbed/graphs/dsjc250.5.col\"\n",
        "matrice, n = lire_graphe_triangulaire(url)\n",
        "\n",
        "print(\"Est planaire?\", is_planar(matrice, n))"
      ]
    },
    {
      "cell_type": "markdown",
      "metadata": {
        "id": "LBI2obxWYgCM"
      },
      "source": [
        "### 3. Graphe Aléatoire Dense"
      ]
    },
    {
      "cell_type": "code",
      "execution_count": null,
      "metadata": {
        "id": "i6y-f5oAYexb"
      },
      "outputs": [],
      "source": [
        "def is_dense_random(matrice_triangulaire, n, threshold=0.5):\n",
        "    \"\"\"\n",
        "    Vérifie si le graphe est aléatoire dense en calculant la densité d'arêtes.\n",
        "\n",
        "    Args:\n",
        "        matrice_triangulaire: Matrice triangulaire représentant le graphe.\n",
        "        n: Nombre de nœuds.\n",
        "        threshold: Seuil de densité pour considérer le graphe comme dense (0.5 par défaut).\n",
        "\n",
        "    Returns:\n",
        "        True si la densité ≥ threshold, False sinon.\n",
        "    \"\"\"\n",
        "    # Compter le nombre total d'arêtes dans la matrice\n",
        "    num_edges = sum(sum(row) for row in matrice_triangulaire)\n",
        "\n",
        "    # Calculer la densité\n",
        "    max_possible_edges = n * (n - 1) / 2\n",
        "    density = num_edges / max_possible_edges if max_possible_edges > 0 else 0.0\n",
        "\n",
        "    return density >= threshold"
      ]
    },
    {
      "cell_type": "code",
      "execution_count": null,
      "metadata": {
        "id": "CvbGv7l4YnaK"
      },
      "outputs": [],
      "source": [
        "# Charger un graphe DIMACS\n",
        "url = \"https://cedric.cnam.fr/~porumbed/graphs/dsjc250.5.col\"\n",
        "matrice, n = lire_graphe_triangulaire(url)\n",
        "\n",
        "# Vérifier s'il est dense\n",
        "print(\"Est un graphe aléatoire dense ?\", is_dense_random(matrice, n))"
      ]
    },
    {
      "cell_type": "markdown",
      "metadata": {
        "id": "Bq7Yl4RTp0e1"
      },
      "source": [
        "### 4. Graphe Aléatoire Sparse"
      ]
    },
    {
      "cell_type": "code",
      "execution_count": null,
      "metadata": {
        "id": "CPCfnRL1b8x8"
      },
      "outputs": [],
      "source": [
        "def is_sparse_random(matrice_triangulaire, n, threshold=0.2):\n",
        "    \"\"\"\n",
        "    Vérifie si le graphe est aléatoire sparse en se basant sur sa densité d'arêtes.\n",
        "\n",
        "    Args:\n",
        "        matrice_triangulaire: Matrice triangulaire représentant le graphe.\n",
        "        n: Nombre de nœuds.\n",
        "        threshold: Seuil de densité pour considérer le graphe comme sparse (0.2 par défaut).\n",
        "\n",
        "    Returns:\n",
        "        True si la densité ≤ threshold, False sinon.\n",
        "    \"\"\"\n",
        "    # Compter le nombre total d'arêtes dans la matrice\n",
        "    num_edges = sum(sum(row) for row in matrice_triangulaire)\n",
        "\n",
        "    # Calculer la densité\n",
        "    max_possible_edges = n * (n - 1) // 2\n",
        "    density = num_edges / max_possible_edges if max_possible_edges > 0 else 0.0\n",
        "\n",
        "    return density <= threshold"
      ]
    },
    {
      "cell_type": "code",
      "execution_count": null,
      "metadata": {
        "id": "aI3_iCz9cBC6"
      },
      "outputs": [],
      "source": [
        "# Charger un graphe DIMACS\n",
        "url = \"https://cedric.cnam.fr/~porumbed/graphs/dsjc250.5.col\"\n",
        "matrice, n = lire_graphe_triangulaire(url)\n",
        "\n",
        "# Vérifier s'il est sparse\n",
        "print(\"Est un graphe aléatoire sparse ?\", is_sparse_random(matrice, n))  # True pour DSJC250.1"
      ]
    },
    {
      "cell_type": "markdown",
      "metadata": {
        "id": "XK_iC_xxp7jV"
      },
      "source": [
        "### 5. Graphes Structurés (ex: Reines)"
      ]
    },
    {
      "cell_type": "code",
      "execution_count": null,
      "metadata": {
        "id": "xT0xBp-lprpP"
      },
      "outputs": [],
      "source": [
        "def is_structured(matrice_triangulaire, n):\n",
        "    \"\"\"\n",
        "    Vérifie si le graphe est structuré (ex. problème des reines) en combinant :\n",
        "    - Vérification de motifs de connexion typiques (ex. symétries, degrés élevés).\n",
        "    \"\"\"\n",
        "\n",
        "    # Vérifier les motifs structurels (ex. symétries, degrés élevés)\n",
        "    # Calculer le degré moyen et la variance\n",
        "    degrees = [len(get_neighbors(node, matrice_triangulaire, n)) for node in range(n)]\n",
        "    avg_degree = sum(degrees) / n\n",
        "    variance = sum((d - avg_degree)**2 for d in degrees) / n\n",
        "\n",
        "    # Heuristique : Degré élevé et variance modérée (typique des structures comme les reines)\n",
        "    if avg_degree > 0.5 * n and variance < 0.2 * avg_degree:\n",
        "        return True\n",
        "\n",
        "    return False"
      ]
    },
    {
      "cell_type": "code",
      "execution_count": null,
      "metadata": {
        "id": "hzfaQ5UK3dn0"
      },
      "outputs": [],
      "source": [
        "# Charger un graphe avec commentaires\n",
        "url = \"https://cedric.cnam.fr/~porumbed/graphs/dsjc250.5.col\"\n",
        "matrice, n = lire_graphe_triangulaire(url)  # Modifié pour retourner les commentaires\n",
        "\n",
        "# Vérifier s'il est structuré\n",
        "print(\"Est un graphe structuré ?\", is_structured(matrice, n))  # True pour queen16_16"
      ]
    },
    {
      "cell_type": "markdown",
      "metadata": {
        "id": "TiREWm4O8mYu"
      },
      "source": [
        "### 6. Graphes Arbre"
      ]
    },
    {
      "cell_type": "code",
      "execution_count": null,
      "metadata": {
        "id": "GoI8GRBh8sPW"
      },
      "outputs": [],
      "source": [
        "from collections import deque\n",
        "\n",
        "def is_tree(matrice_triangulaire, n):\n",
        "    \"\"\"\n",
        "    Vérifie si le graphe est un arbre en utilisant deux critères :\n",
        "    1. Le nombre d'arêtes est exactement n - 1.\n",
        "    2. Le graphe est connexe.\n",
        "    \"\"\"\n",
        "    # Étape 1 : Compter le nombre total d'arêtes\n",
        "    num_edges = sum(sum(row) for row in matrice_triangulaire)\n",
        "    if num_edges != n - 1:\n",
        "        return False  # Un arbre a exactement n-1 arêtes\n",
        "\n",
        "    # Étape 2 : Vérifier la connectivité via BFS\n",
        "    visited = [False] * n\n",
        "    start_node = 0  # Commencer à partir du nœud 0 (les indices sont 0-based)\n",
        "    queue = deque([start_node])\n",
        "    visited[start_node] = True\n",
        "    nodes_visited = 1\n",
        "\n",
        "    while queue:\n",
        "        current = queue.popleft()\n",
        "        neighbors = get_neighbors(current, matrice_triangulaire, n)\n",
        "        for neighbor in neighbors:\n",
        "            if not visited[neighbor]:\n",
        "                visited[neighbor] = True\n",
        "                nodes_visited += 1\n",
        "                queue.append(neighbor)\n",
        "\n",
        "    return nodes_visited == n  # Tous les nœuds sont visités = graphe connexe"
      ]
    },
    {
      "cell_type": "code",
      "execution_count": null,
      "metadata": {
        "id": "ZwCdf7CB84CO"
      },
      "outputs": [],
      "source": [
        "# Charger un graphe avec commentaires\n",
        "url = \"https://cedric.cnam.fr/~porumbed/graphs/dsjc250.5.col\"\n",
        "matrice, n = lire_graphe_triangulaire(url)  # Modifié pour retourner les commentaires\n",
        "\n",
        "print(\"Est un arbre ?\", is_tree(matrice, n))"
      ]
    },
    {
      "cell_type": "markdown",
      "metadata": {
        "id": "uTRCKp89nOZd"
      },
      "source": [
        "### **Recuit Simulé**"
      ]
    },
    {
      "cell_type": "code",
      "execution_count": null,
      "metadata": {
        "id": "EKXOlb6Sm7bS"
      },
      "outputs": [],
      "source": [
        "import random\n",
        "import math\n",
        "import time\n",
        "\n",
        "def recuit_simule(matrice_triangulaire, n, max_iter=10000, T0=1000, alpha=0.95):\n",
        "    \"\"\"\n",
        "    Implémente le Recuit Simulé pour le coloriage de graphes.\n",
        "    Objectif : Trouver une coloration valide avec le nombre minimal de couleurs.\n",
        "\n",
        "    Args:\n",
        "        matrice_triangulaire: Matrice triangulaire du graphe.\n",
        "        n: Nombre de nœuds.\n",
        "        max_iter: Nombre maximal d'itérations.\n",
        "        T0: Température initiale.\n",
        "        alpha: Taux de refroidissement.\n",
        "\n",
        "    Returns:\n",
        "        (nombre_chromatique, coloration, NoConflict, temps_execution)\n",
        "        isDsatur = True -> la solution final a été obtenue par dsatur\n",
        "        pure (pas d'amélioration de recuit simulé)\n",
        "    \"\"\"\n",
        "    start_time = time.time()\n",
        "\n",
        "    # Précalcul des voisins\n",
        "    adj = [get_neighbors(u, matrice_triangulaire, n) for u in range(n)]\n",
        "\n",
        "    # Solution initiale via DSATUR pour obtenir un k réaliste\n",
        "    k_init, init_coloring, _ = dsatur(matrice_triangulaire)\n",
        "    current_coloring = init_coloring.copy()\n",
        "    current_k = k_init\n",
        "\n",
        "    # Fonction d'énergie : combinaison conflits + nombre de couleurs (pénalité élevée pour les conflits)\n",
        "    def energie(coloring, k):\n",
        "        conflicts = sum(1 for u in range(n) for v in adj[u] if v > u and coloring[u] == coloring[v])\n",
        "        return 1000 * conflicts + k  # Priorité à éliminer les conflits\n",
        "\n",
        "    best_coloring = current_coloring.copy()\n",
        "    best_k = current_k\n",
        "    best_energy = energie(best_coloring, best_k)\n",
        "\n",
        "    T = T0\n",
        "    isDsatur = True\n",
        "    for _ in range(max_iter):\n",
        "        # Générer un voisin : deux stratégies aléatoires\n",
        "        if random.random() <= 0.5:  # 50% de chance de modifier un noeud aléatoire avec une couleur aléatoire\n",
        "            node = random.randint(0, n-1)\n",
        "            new_color = random.randint(0, current_k-1)\n",
        "            new_coloring = current_coloring.copy()\n",
        "            new_coloring[node] = new_color\n",
        "            new_k = current_k\n",
        "        else:  # 30% de chance de réduire le nombre de couleurs\n",
        "            new_k = max(current_k - 1, 1)\n",
        "            new_coloring = [c if c < new_k else random.randint(0, new_k-1) for c in current_coloring]\n",
        "\n",
        "        # Calculer la nouvelle énergie\n",
        "        new_energy = energie(new_coloring, new_k)\n",
        "\n",
        "        # Critère d'acceptation de Metropolis\n",
        "        delta = new_energy - best_energy\n",
        "        if delta < 0 or (T > 0 and random.random() < math.exp(-delta / T)):\n",
        "            current_coloring = new_coloring\n",
        "            current_k = new_k\n",
        "            if new_energy < best_energy:\n",
        "                best_coloring = new_coloring.copy()\n",
        "                best_k = new_k\n",
        "                best_energy = new_energy\n",
        "\n",
        "        # Refroidissement\n",
        "        T *= alpha\n",
        "\n",
        "        # Arrêt prématuré si solution valide trouvée\n",
        "        if best_energy < 1000:  # Aucun conflit (car 1000*0 + k)\n",
        "            isDsatur = False\n",
        "            break\n",
        "\n",
        "    # Vérifier si la meilleure solution est valide\n",
        "    # conflicts = sum(1 for u in range(n) for v in adj[u] if v > u and best_coloring[u] == best_coloring[v])\n",
        "    if not isDsatur:\n",
        "        final_k = best_k\n",
        "    else:\n",
        "        final_k = k_init  # Retour à la solution initiale\n",
        "\n",
        "    temps_execution = time.time() - start_time\n",
        "    return final_k, best_coloring, isDsatur, temps_execution"
      ]
    },
    {
      "cell_type": "code",
      "execution_count": null,
      "metadata": {
        "id": "_BKajauvOpQg"
      },
      "outputs": [],
      "source": [
        "graph = \"dsjc250.1\"\n",
        "matrice_trianguaire, n = lire_graphe_triangulaire(f\"https://cedric.cnam.fr/~porumbed/graphs/{graph}.col\", is_url=True)\n",
        "print(\"Recuit simulé:\")\n",
        "chromatic_number, coloring, isDsatur, temps = recuit_simule(matrice_trianguaire, n, max_iter=100000000)\n",
        "print(\"Nombre chromatique:\", chromatic_number, \"\\nisDsatur:\", isDsatur, \"\\nTemps:\", temps)\n",
        "print()"
      ]
    },
    {
      "cell_type": "code",
      "execution_count": null,
      "metadata": {
        "id": "SCa6HiafJDqt"
      },
      "outputs": [],
      "source": [
        "## pseudo-algorithme PCG combining intensification + diversification\n",
        "# for d in range(diversitication_max):\n",
        "#  generate random shuffle s -> chromatique = n\n",
        "#  for i in range(intensification_max):\n",
        "#   choose node that changing its color minimizes chromatique\n",
        "#   update s\n",
        "\n",
        "def coloration_par_voisinage(n, matrice_triangulaire, diversification_max = 1000, intensification_max = 10000):\n",
        "  def change(temp_sol, temp_k, n, matrice_triangulaire):\n",
        "    '''\n",
        "    Role: Given a valid coloring temp_sol with temp_k distinct colors:\n",
        "      Modify the temp_sol such that the new temp_k' <= temp_k.\n",
        "      Returns (temp_sol', temp_k', changed).\n",
        "      changed indicates whether temp_sol' = temp_sol (no change available).\n",
        "    '''\n",
        "    # Initialize variables\n",
        "    best_node = -1\n",
        "    best_color = -1\n",
        "    best_new_k = temp_k\n",
        "    changed = False\n",
        "\n",
        "    # Iterate over all nodes to find the best change\n",
        "    for node in range(n):\n",
        "        # Get the current color of the node\n",
        "        current_color = temp_sol[node]\n",
        "\n",
        "        # Try all possible colors (up to temp_k)\n",
        "        for new_color in range(temp_k):\n",
        "            if new_color == current_color:\n",
        "                continue  # Skip the current color\n",
        "\n",
        "            # Check if the new color is valid for this node\n",
        "            valid = True\n",
        "            for neighbor in range(n):\n",
        "                if matrice_triangulaire[node][neighbor] and temp_sol[neighbor] == new_color:\n",
        "                    valid = False\n",
        "                    break\n",
        "\n",
        "            if valid:\n",
        "                # Calculate the new chromatic number\n",
        "                new_k = max(temp_sol[:node] + [new_color] + temp_sol[node+1:]) + 1\n",
        "                # Update if this change is better\n",
        "                if new_k < best_new_k:\n",
        "                    best_node = node\n",
        "                    best_color = new_color\n",
        "                    best_new_k = new_k\n",
        "                    changed = True\n",
        "\n",
        "    # Apply the best change if found\n",
        "    if changed:\n",
        "        temp_sol[best_node] = best_color\n",
        "        temp_k = best_new_k\n",
        "\n",
        "    return temp_sol, temp_k, changed\n",
        "  start = time.time()\n",
        "  best_k = n\n",
        "  best_sol = [i for i in range(n)]\n",
        "  for d in range(diversification_max):\n",
        "    temp_sol = [i for i in range(n)]\n",
        "    random.shuffle(temp_sol)\n",
        "    temp_k = n\n",
        "    for i in range(intensification_max):\n",
        "      if (d + i) % 500 == 0:\n",
        "        print(\"Best K at :\", i+d, \" = \", best_k)\n",
        "      temp_sol, temp_k, changed = change(temp_sol, temp_k, n, matrice_triangulaire) # find one neighbor solution\n",
        "      if temp_k < best_k:\n",
        "        best_k = temp_k\n",
        "        best_sol = temp_sol\n",
        "      if not changed:\n",
        "        break\n",
        "  return best_k, best_sol, time.time() - start\n",
        "graph = \"dsjc250.1\"\n",
        "matx, n = lire_graphe_full(f\"https://cedric.cnam.fr/~porumbed/graphs/{graph}.col\", is_url=True)\n",
        "print(\"iterative approach:\")\n",
        "chromatic_number, coloring, temps = coloration_par_voisinage(n, matx)\n",
        "print(\"Nombre chromatique :\", chromatic_number, \"Time : \", temps)\n",
        "print()"
      ]
    },
    {
      "cell_type": "code",
      "source": [
        "a = [1, 2, 3]\n",
        "b = a\n",
        "b[0] = 10\n",
        "a"
      ],
      "metadata": {
        "id": "adsW7820BC4e"
      },
      "execution_count": null,
      "outputs": []
    },
    {
      "cell_type": "code",
      "execution_count": null,
      "metadata": {
        "id": "DZoJf7QESdFS"
      },
      "outputs": [],
      "source": [
        "def heuristique_coloration(matrice_triangulaire, n):\n",
        "    if is_bipartite(matrice_triangulaire, n):\n",
        "      dfs(matrice_triangulaire, n)\n",
        "\n",
        "    elif is_tree(matrice_triangulaire, n):\n",
        "      dfs(matrice_triangulaire, n)\n",
        "\n",
        "    elif is_dense_random(matrice_triangulaire, n, 0.5):\n",
        "      rlf(matrice_triangulaire, n)\n",
        "\n",
        "    elif is_sparse_random(matrice_triangulaire, n, 0.2):\n",
        "      dsatur(matrice_triangulaire, n)\n",
        "\n",
        "    elif is_planar(matrice_triangulaire, n):\n",
        "      dsatur(matrice_triangulaire, n)\n",
        "\n",
        "    elif is_structured(matrice_triangulaire, n):\n",
        "      recuit_simule(matrice_triangulaire, n)\n",
        "\n",
        "    else:\n",
        "      dsatur(matrice_triangulaire, n)"
      ]
    },
    {
      "cell_type": "markdown",
      "metadata": {
        "id": "mvSfhielFWmU"
      },
      "source": [
        "## **Iterative_approach**"
      ]
    },
    {
      "cell_type": "code",
      "execution_count": null,
      "metadata": {
        "collapsed": true,
        "id": "3Fnap1LZ4N1u"
      },
      "outputs": [],
      "source": [
        "def coloriage(nodes, colors):\n",
        "  '''returns: set of distinct colors used to color *nodes'''\n",
        "  ret = set()\n",
        "  for n in nodes:\n",
        "    ret.add(colors[n])\n",
        "  return ret\n",
        "def N(colors, nb_colors, matrice_triangulaire, n, tabu_list):\n",
        "    \"\"\"Changes the color of a vertex to generate a new valid coloring.\"\"\"\n",
        "    new_coloring = colors.copy()\n",
        "    num_vertices = n\n",
        "\n",
        "    # Select the vertex with the highest degree of saturation (not a vertex in tabu list)\n",
        "    vertex_to_change = 0\n",
        "    max_deg_sat = 0\n",
        "    for i in range(num_vertices):\n",
        "      if i not in tabu_list:\n",
        "        neighbors = get_neighbors(vertex_to_change, matrice_triangulaire, n)\n",
        "        deg_sat = len(coloriage(neighbors, colors))\n",
        "        if max_deg_sat < deg_sat:\n",
        "          vertex_to_change = i\n",
        "          max_deg_sat = deg_sat\n",
        "\n",
        "    neighbors = get_neighbors(vertex_to_change, matrice_triangulaire,n)\n",
        "\n",
        "    # Find the smallest available color that doesn't conflict with neighbors\n",
        "    used_colors = set(new_coloring[n] for n in neighbors)\n",
        "    for color in range(num_vertices):\n",
        "        if color not in used_colors:\n",
        "          new_coloring[vertex_to_change] = color\n",
        "          break\n",
        "        else:\n",
        "          # If no color is available, assign a random color\n",
        "          new_coloring[vertex_to_change] = random.randint(0, num_vertices - 1)\n",
        "\n",
        "    # Update tabu list\n",
        "    tabu_list.append(vertex_to_change)\n",
        "    if len(tabu_list) > 10:  # Limit tabu list size\n",
        "        tabu_list.pop(0)\n",
        "\n",
        "    used_colors = set(new_coloring)\n",
        "    new_nb = len(used_colors)\n",
        "    return new_coloring, new_nb\n",
        "\n",
        "def iterative_approach(matrice_triangulaire_inf, n, max_iter=10000, temperature=1.0, cooling_rate=0.999999):\n",
        "    \"\"\"Iterative approach combining Tabu Search and Simulated Annealing.\"\"\"\n",
        "    start = time.time()\n",
        "    #initial coloring\n",
        "    current_k = n\n",
        "    current_coloring = [i for i in range(n)]\n",
        "    random.shuffle(current_coloring) # initial coloring: random shuffle (n colors)\n",
        "    best_coloring = current_coloring\n",
        "    best_k = current_k\n",
        "    tabu_list = []  # Tabu list to avoid revisiting recent changes\n",
        "    intensify = True # whether to intensify or to diversify\n",
        "    for it in range(max_iter):\n",
        "        if it % 100 == 0: # each 100 iterations: diversify\n",
        "          intensify = False\n",
        "          # debug\n",
        "          print(f\"Iteration {it}: Best Colors = {best_k}\")\n",
        "\n",
        "        else:\n",
        "          intensify = True\n",
        "        if intensify:\n",
        "          temperature *= cooling_rate  # Cool down temperature\n",
        "          new_coloring, new_k = N(current_coloring, current_k, matrice_triangulaire_inf, n, tabu_list) # find neighbor solution (intensification)\n",
        "\n",
        "          # Update best solution if a better coloring is found\n",
        "          if new_k < best_k:\n",
        "            best_colors = new_coloring\n",
        "            best_nb = new_k\n",
        "            colors = new_coloring\n",
        "            nb_colors = new_k\n",
        "\n",
        "          # Simulated Annealing: Accept worse solutions with a probability (small diversification)\n",
        "          if new_k > nb_colors:\n",
        "            probability = math.exp((nb_colors - new_k) / temperature)\n",
        "            if random.random() < probability:\n",
        "                colors = new_coloring\n",
        "                nb_colors = new_k\n",
        "\n",
        "          # Accept better temporal solutions\n",
        "          elif new_k < nb_colors:\n",
        "            colors = new_coloring\n",
        "            nb_colors = new_k\n",
        "        else: # divsersification\n",
        "          colors = [i for i in range(n)]\n",
        "          random.shuffle(colors) # make a complete random shuffle (complete diversification)\n",
        "          temperature = 1.0 # reset temperature\n",
        "    return best_nb, best_colors, time.time() - start\n",
        "\n",
        "# Example usage\n",
        "# matrice_triangulaire_inf = [\n",
        "#     [0],\n",
        "#     [1, 0],\n",
        "#     [1, 1, 0],\n",
        "#     [0, 1, 1, 0]\n",
        "# ]\n",
        "\n",
        "# best_nb, best_colors, time_taken = iterative_approach(matrice_triangulaire_inf)\n",
        "# print(f\"Best number of colors: {best_nb}\")\n",
        "# print(f\"Best coloring: {best_colors}\")\n",
        "# print(f\"Time taken: {time_taken} seconds\")\n",
        "# getting the graph from the website\n",
        "# graphs_best = {\n",
        "#     \"dsjc125.9\":\"44\",\n",
        "#     \"dsjc125.1\":\"5\",\n",
        "#     \"dsjc250.1\":\"8\",\n",
        "#     \"dsjc250.9\":\"72\",\n",
        "#     \"r250.5\":\"66/65\",\n",
        "#     \"r250.1\":\"8\",\n",
        "#     \"dsjc250.5\":\"28/?\",\n",
        "#     \"flat300_28_0\":\"28/28\",\n",
        "#     \"le450_25c\":\"25/25\"\n",
        "# }\n",
        "graph = \"dsjc250.1\"\n",
        "matx, n = lire_graphe_triangulaire(f\"https://cedric.cnam.fr/~porumbed/graphs/{graph}.col\", is_url=True)\n",
        "print(\"iterative approach:\")\n",
        "chromatic_number, coloring, temps = iterative_approach(matx,n)\n",
        "print(\"Nombre chromatique :\", chromatic_number, \"Time : \", temps)\n",
        "print()"
      ]
    }
  ],
  "metadata": {
    "colab": {
      "collapsed_sections": [
        "uLyEPgV89eWZ",
        "S50u98x-fx8z",
        "z3ULLXla91Pu",
        "Nz5dlOdB99Qj",
        "XSrCeQuaBy6Y",
        "r3-a1E4ejkAG",
        "BekTKSlOJBZn",
        "p19qp8Td6cx-",
        "OQ_mrz7x-KOg",
        "i-sR5vLK-7yg",
        "O8HQ7VDD-W-r"
      ],
      "provenance": [],
      "include_colab_link": true
    },
    "kernelspec": {
      "display_name": "Python 3",
      "name": "python3"
    },
    "language_info": {
      "name": "python"
    }
  },
  "nbformat": 4,
  "nbformat_minor": 0
}